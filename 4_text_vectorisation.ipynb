{
 "cells": [
  {
   "cell_type": "markdown",
   "metadata": {},
   "source": [
    "## Text Vectorisation"
   ]
  },
  {
   "cell_type": "code",
   "execution_count": 1,
   "metadata": {},
   "outputs": [],
   "source": [
    "import pandas as pd\n",
    "from sentence_transformers import SentenceTransformer, util\n",
    "\n",
    "import fetch\n",
    "import modules.urls as urls\n",
    "from fetch.utils import json_or_fetch"
   ]
  },
  {
   "cell_type": "code",
   "execution_count": 2,
   "metadata": {},
   "outputs": [],
   "source": [
    "df_company = pd.read_csv('data/3_geolocation.csv', index_col=0)"
   ]
  },
  {
   "cell_type": "code",
   "execution_count": 3,
   "metadata": {},
   "outputs": [],
   "source": [
    "embedder = SentenceTransformer('all-MiniLM-L6-v2')"
   ]
  },
  {
   "cell_type": "code",
   "execution_count": 4,
   "metadata": {},
   "outputs": [],
   "source": [
    "corpus_embeddings = embedder.encode(df_company['industrydesc'])"
   ]
  },
  {
   "cell_type": "markdown",
   "metadata": {},
   "source": [
    "### Which two companies are closest?"
   ]
  },
  {
   "cell_type": "code",
   "execution_count": 5,
   "metadata": {},
   "outputs": [
    {
     "name": "stdout",
     "output_type": "stream",
     "text": [
      "6 8 1.0\n",
      "                                name  \\\n",
      "KMD A/S                      KMD A/S   \n",
      "Alpha Solutions  ALPHA SOLUTIONS A/S   \n",
      "\n",
      "                                                      industrydesc  \n",
      "KMD A/S          Konsulentbistand vedrørende informationsteknologi  \n",
      "Alpha Solutions  Konsulentbistand vedrørende informationsteknologi  \n"
     ]
    }
   ],
   "source": [
    "idx1 = 0\n",
    "idx2 = 0\n",
    "score = 0\n",
    "\n",
    "for i, query_embedding in enumerate(corpus_embeddings):\n",
    "    for j, corpus_embedding in enumerate(corpus_embeddings):\n",
    "        sim = util.cos_sim(query_embedding, corpus_embedding)\n",
    "        val = sim.tolist()[0][0]\n",
    "        # if new max similarity and not matching self\n",
    "        if score < val and i != j:\n",
    "            idx1 = i\n",
    "            idx2 = j\n",
    "            score = val\n",
    "\n",
    "print(idx1, idx2, score)\n",
    "print(df_company.iloc[[idx1, idx2]][['name', 'industrydesc']])"
   ]
  },
  {
   "cell_type": "markdown",
   "metadata": {},
   "source": [
    "Another way of doing it that might be more efficient is found on the [SentenceTransformers website](https://sbert.net/docs/usage/semantic_textual_similarity.html)."
   ]
  },
  {
   "cell_type": "markdown",
   "metadata": {},
   "source": [
    "### Scraping"
   ]
  },
  {
   "cell_type": "code",
   "execution_count": 6,
   "metadata": {},
   "outputs": [
    {
     "data": {
      "text/plain": [
       "Index(['Dynatest A/S', 'Eriksholm Research Centre, Oticon', 'Formpipe',\n",
       "       'Novo Nordisk', 'PFA', 'Topdanmark', 'KMD A/S', 'NorthTech ApS',\n",
       "       'Alpha Solutions', 'Dafolo', 'Nuuday A/S', 'Netcompany A/S',\n",
       "       'Wash World', 'Carve', 'GroupM', 'Brøndbyernes I.F.', 'Meew', 'Funelo',\n",
       "       'PreCure', 'Wilke', 'OOONO', 'Elbek & Vejrup', 'Ellab', 'Lejka',\n",
       "       'Firi'],\n",
       "      dtype='object')"
      ]
     },
     "execution_count": 6,
     "metadata": {},
     "output_type": "execute_result"
    }
   ],
   "source": [
    "df_company.index"
   ]
  },
  {
   "cell_type": "code",
   "execution_count": 7,
   "metadata": {},
   "outputs": [],
   "source": [
    "keys = urls.websites\n",
    "args = tuple(zip(keys))"
   ]
  },
  {
   "cell_type": "code",
   "execution_count": 8,
   "metadata": {},
   "outputs": [],
   "source": [
    "texts = json_or_fetch(fetch.scrapetext, keys, args, path='data/website_text.json')\n",
    "texts = {k: ' '.join(v) for k, v in texts.items()}\n",
    "# joins list of paragraphs for each website because I think that's what I actually need."
   ]
  },
  {
   "cell_type": "code",
   "execution_count": 9,
   "metadata": {},
   "outputs": [],
   "source": [
    "corpus_embeddings = embedder.encode(list(texts.values()))"
   ]
  },
  {
   "cell_type": "markdown",
   "metadata": {},
   "source": [
    "### Querying"
   ]
  },
  {
   "cell_type": "code",
   "execution_count": 10,
   "metadata": {},
   "outputs": [],
   "source": [
    "queries = ['Software','development', 'udvikling', 'programmering', 'programming']\n",
    "query_embedding = embedder.encode(queries)"
   ]
  },
  {
   "cell_type": "code",
   "execution_count": 11,
   "metadata": {},
   "outputs": [
    {
     "name": "stdout",
     "output_type": "stream",
     "text": [
      "A/S DYNATEST ENGINEERING:\t\t0.1169\n",
      "PROPOLIS RESEARCH CENTRE A/S:\t\t0.1714\n",
      "FORMPIPE LASERNET A/S:\t\t0.1248\n",
      "NOVO NORDISK A/S:\t\t0.1259\n",
      "PFA BANK A/S:\t\t-0.0880\n",
      "TOPDANMARK A/S:\t\t0.1361\n",
      "KMD A/S:\t\t0.1953\n",
      "NORTHTECH ApS:\t\t0.2179\n",
      "ALPHA SOLUTIONS A/S:\t\t0.2515\n",
      "DAFOLO A/S:\t\t0.1993\n",
      "Nuuday A/S:\t\t0.1135\n",
      "Netcompany A/S:\t\t0.1811\n",
      "WASH WORLD ApS:\t\t0.1309\n",
      "CARVE KOMPLEMENTAR ApS:\t\t0.0936\n",
      "GROUPM DENMARK A/S:\t\t0.1012\n",
      "BRØNDBYERNES I.F. FODBOLD A/S:\t\t0.0159\n",
      "MeeW A/S:\t\t0.1165\n",
      "Funelo ApS:\t\t0.2638\n",
      "PreCure ApS:\t\t0.1899\n",
      "Wilke A/S:\t\t0.1724\n",
      "ooono A/S:\t\t0.2770\n",
      "ELBEK & VEJRUP A/S:\t\t0.1455\n",
      "ELLAB A/S:\t\t0.3604\n",
      "LEJKA ApS:\t\t0.0702\n",
      "Firi, filial af Firi AS:\t\t-0.0107\n"
     ]
    }
   ],
   "source": [
    "for idx, embedding in enumerate(corpus_embeddings):\n",
    "    sim = util.cos_sim(query_embedding, embedding)\n",
    "    print(\"{}:\\t\\t{:.4f}\".format(df_company.iloc[idx]['name'], sim.tolist()[0][0]))"
   ]
  },
  {
   "cell_type": "markdown",
   "metadata": {},
   "source": [
    "Whelp. Nuuday is the highest scoring even though it had literally 0 `<p>` tags. It's a JS website so we need Selenium to get proper data there.\n",
    "\n",
    "I've changed the selector to include `<h1>` and `<h2>`. That might make it more accurate."
   ]
  }
 ],
 "metadata": {
  "kernelspec": {
   "display_name": "Python 3",
   "language": "python",
   "name": "python3"
  },
  "language_info": {
   "codemirror_mode": {
    "name": "ipython",
    "version": 3
   },
   "file_extension": ".py",
   "mimetype": "text/x-python",
   "name": "python",
   "nbconvert_exporter": "python",
   "pygments_lexer": "ipython3",
   "version": "3.9.16"
  },
  "orig_nbformat": 4
 },
 "nbformat": 4,
 "nbformat_minor": 2
}
