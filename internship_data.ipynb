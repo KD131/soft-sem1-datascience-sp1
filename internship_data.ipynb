{
 "cells": [
  {
   "attachments": {},
   "cell_type": "markdown",
   "metadata": {},
   "source": [
    "## Loading initial excel file"
   ]
  },
  {
   "cell_type": "code",
   "execution_count": 1,
   "metadata": {},
   "outputs": [],
   "source": [
    "from textwrap import shorten\n",
    "from urllib.parse import urlparse\n",
    "\n",
    "import folium\n",
    "import matplotlib.pyplot as plt\n",
    "import numpy as np\n",
    "import pandas as pd\n",
    "import requests\n",
    "import seaborn as sns\n",
    "from bs4 import BeautifulSoup\n",
    "from faker import Faker\n",
    "from geopy.extra.rate_limiter import RateLimiter\n",
    "from geopy.geocoders import Nominatim\n",
    "from scipy.spatial.distance import cdist\n",
    "from sentence_transformers import SentenceTransformer, util\n",
    "from sklearn import metrics\n",
    "from sklearn.cluster import KMeans\n",
    "from sklearn.linear_model import LinearRegression\n",
    "from sklearn.preprocessing import OneHotEncoder\n",
    "\n",
    "from modules.urls import proff_urls, website_urls\n",
    "from modules.utils import json_or_get"
   ]
  },
  {
   "cell_type": "code",
   "execution_count": 2,
   "metadata": {},
   "outputs": [],
   "source": [
    "df = pd.read_excel('data/SOFT-3.xlsx', header=1)\n",
    "df = df.drop(df.columns[0], axis=1)\n",
    "# df.head()"
   ]
  },
  {
   "attachments": {},
   "cell_type": "markdown",
   "metadata": {},
   "source": [
    "## Anonymising the data (student names)"
   ]
  },
  {
   "cell_type": "code",
   "execution_count": 6,
   "metadata": {},
   "outputs": [
    {
     "data": {
      "text/html": [
       "<div>\n",
       "<style scoped>\n",
       "    .dataframe tbody tr th:only-of-type {\n",
       "        vertical-align: middle;\n",
       "    }\n",
       "\n",
       "    .dataframe tbody tr th {\n",
       "        vertical-align: top;\n",
       "    }\n",
       "\n",
       "    .dataframe thead th {\n",
       "        text-align: right;\n",
       "    }\n",
       "</style>\n",
       "<table border=\"1\" class=\"dataframe\">\n",
       "  <thead>\n",
       "    <tr style=\"text-align: right;\">\n",
       "      <th></th>\n",
       "      <th>student</th>\n",
       "      <th>company</th>\n",
       "    </tr>\n",
       "  </thead>\n",
       "  <tbody>\n",
       "    <tr>\n",
       "      <th>0</th>\n",
       "      <td>Matthew Martin</td>\n",
       "      <td>Dynatest A/S</td>\n",
       "    </tr>\n",
       "    <tr>\n",
       "      <th>1</th>\n",
       "      <td>Victoria Hammond</td>\n",
       "      <td>Eriksholm Research Centre, Oticon</td>\n",
       "    </tr>\n",
       "    <tr>\n",
       "      <th>2</th>\n",
       "      <td>Denise Lopez</td>\n",
       "      <td>Formpipe</td>\n",
       "    </tr>\n",
       "    <tr>\n",
       "      <th>3</th>\n",
       "      <td>Vincent Mason</td>\n",
       "      <td>Formpipe</td>\n",
       "    </tr>\n",
       "    <tr>\n",
       "      <th>4</th>\n",
       "      <td>Angela Ashley</td>\n",
       "      <td>Formpipe</td>\n",
       "    </tr>\n",
       "  </tbody>\n",
       "</table>\n",
       "</div>"
      ],
      "text/plain": [
       "            student                            company\n",
       "0    Matthew Martin                       Dynatest A/S\n",
       "1  Victoria Hammond  Eriksholm Research Centre, Oticon\n",
       "2      Denise Lopez                           Formpipe\n",
       "3     Vincent Mason                           Formpipe\n",
       "4     Angela Ashley                           Formpipe"
      ]
     },
     "execution_count": 6,
     "metadata": {},
     "output_type": "execute_result"
    }
   ],
   "source": [
    "faker = Faker()\n",
    "dict_names = {name: faker.name() for name in df['student'].unique()}\n",
    "df['student'] = df['student'].map(dict_names)\n",
    "df.head()"
   ]
  },
  {
   "attachments": {},
   "cell_type": "markdown",
   "metadata": {},
   "source": [
    "## Getting company data with CVR API"
   ]
  },
  {
   "cell_type": "code",
   "execution_count": 8,
   "metadata": {},
   "outputs": [
    {
     "data": {
      "text/plain": [
       "12"
      ]
     },
     "execution_count": 8,
     "metadata": {},
     "output_type": "execute_result"
    }
   ],
   "source": [
    "df['company'].unique().size"
   ]
  },
  {
   "cell_type": "code",
   "execution_count": 9,
   "metadata": {},
   "outputs": [],
   "source": [
    "def get_company_data(company):\n",
    "    # Specifically uses the company name search of the API, not the general search.\n",
    "    r = requests.get('https://cvrapi.dk/api', params={\n",
    "        'name': company,\n",
    "        'country': 'dk',\n",
    "        'format': 'json'\n",
    "    })\n",
    "    return r.json()"
   ]
  },
  {
   "attachments": {},
   "cell_type": "markdown",
   "metadata": {},
   "source": [
    "These are the older deprecated cells that fetched and stored JSON data about the companies. There's a refactored version meant to be more reusable in `modules/utils.py`."
   ]
  },
  {
   "cell_type": "code",
   "execution_count": 11,
   "metadata": {},
   "outputs": [],
   "source": [
    "# import json\n",
    "# from os.path import exists\n",
    "\n",
    "# # init empty dict\n",
    "# dict_company_data = {}\n",
    "# # loads from json file if exists\n",
    "# path = 'data/company_data.json'\n",
    "# if exists(path):\n",
    "#     with open(path) as f:\n",
    "#         dict_company_data = json.load(f)"
   ]
  },
  {
   "cell_type": "code",
   "execution_count": 12,
   "metadata": {},
   "outputs": [],
   "source": [
    "# # if company from df is not in the existing json file, we get info from API\n",
    "# for company in df['company'].unique():\n",
    "#     if company not in dict_company_data.keys():\n",
    "#         dict_company_data[company] = get_company_data(company)\n",
    "\n",
    "# # overwrite existing json file with fresh data\n",
    "# with open(path, 'w') as f:\n",
    "#     json.dump(dict_company_data, f)"
   ]
  },
  {
   "cell_type": "code",
   "execution_count": 13,
   "metadata": {},
   "outputs": [],
   "source": [
    "dict_company_data = json_or_get('data/company_data.json', df['company'].unique(), get_company_data)"
   ]
  },
  {
   "cell_type": "code",
   "execution_count": 14,
   "metadata": {},
   "outputs": [
    {
     "data": {
      "text/html": [
       "<div>\n",
       "<style scoped>\n",
       "    .dataframe tbody tr th:only-of-type {\n",
       "        vertical-align: middle;\n",
       "    }\n",
       "\n",
       "    .dataframe tbody tr th {\n",
       "        vertical-align: top;\n",
       "    }\n",
       "\n",
       "    .dataframe thead th {\n",
       "        text-align: right;\n",
       "    }\n",
       "</style>\n",
       "<table border=\"1\" class=\"dataframe\">\n",
       "  <thead>\n",
       "    <tr style=\"text-align: right;\">\n",
       "      <th></th>\n",
       "      <th>vat</th>\n",
       "      <th>name</th>\n",
       "      <th>address</th>\n",
       "      <th>zipcode</th>\n",
       "      <th>city</th>\n",
       "      <th>cityname</th>\n",
       "      <th>protected</th>\n",
       "      <th>phone</th>\n",
       "      <th>email</th>\n",
       "      <th>fax</th>\n",
       "      <th>...</th>\n",
       "      <th>industrydesc</th>\n",
       "      <th>companycode</th>\n",
       "      <th>companydesc</th>\n",
       "      <th>creditstartdate</th>\n",
       "      <th>creditbankrupt</th>\n",
       "      <th>creditstatus</th>\n",
       "      <th>owners</th>\n",
       "      <th>productionunits</th>\n",
       "      <th>t</th>\n",
       "      <th>version</th>\n",
       "    </tr>\n",
       "  </thead>\n",
       "  <tbody>\n",
       "    <tr>\n",
       "      <th>Dynatest A/S</th>\n",
       "      <td>20318872</td>\n",
       "      <td>A/S DYNATEST ENGINEERING</td>\n",
       "      <td>Generatorvej 21</td>\n",
       "      <td>2730</td>\n",
       "      <td>Herlev</td>\n",
       "      <td>None</td>\n",
       "      <td>False</td>\n",
       "      <td>NaN</td>\n",
       "      <td>None</td>\n",
       "      <td>NaN</td>\n",
       "      <td>...</td>\n",
       "      <td>Uoplyst</td>\n",
       "      <td>60</td>\n",
       "      <td>Aktieselskab</td>\n",
       "      <td>12/03 - 2001</td>\n",
       "      <td>True</td>\n",
       "      <td>1.0</td>\n",
       "      <td>None</td>\n",
       "      <td>[{'pno': 1004239898, 'main': True, 'name': 'A/...</td>\n",
       "      <td>100</td>\n",
       "      <td>6</td>\n",
       "    </tr>\n",
       "    <tr>\n",
       "      <th>Eriksholm Research Centre, Oticon</th>\n",
       "      <td>50091015</td>\n",
       "      <td>PROPOLIS RESEARCH CENTRE A/S</td>\n",
       "      <td>Lille Veksøvej 11</td>\n",
       "      <td>3670</td>\n",
       "      <td>Veksø Sjælland</td>\n",
       "      <td>None</td>\n",
       "      <td>False</td>\n",
       "      <td>NaN</td>\n",
       "      <td>None</td>\n",
       "      <td>NaN</td>\n",
       "      <td>...</td>\n",
       "      <td>Andre liberale, videnskabelige og tekniske tje...</td>\n",
       "      <td>60</td>\n",
       "      <td>Aktieselskab</td>\n",
       "      <td>None</td>\n",
       "      <td>False</td>\n",
       "      <td>NaN</td>\n",
       "      <td>None</td>\n",
       "      <td>[{'pno': 1001942680, 'main': True, 'name': 'PR...</td>\n",
       "      <td>100</td>\n",
       "      <td>6</td>\n",
       "    </tr>\n",
       "    <tr>\n",
       "      <th>Formpipe</th>\n",
       "      <td>26366216</td>\n",
       "      <td>FORMPIPE LASERNET A/S</td>\n",
       "      <td>Lautrupvang 1</td>\n",
       "      <td>2750</td>\n",
       "      <td>Ballerup</td>\n",
       "      <td>None</td>\n",
       "      <td>False</td>\n",
       "      <td>43660210.0</td>\n",
       "      <td>admin.lasernet@formpipe.com</td>\n",
       "      <td>NaN</td>\n",
       "      <td>...</td>\n",
       "      <td>Anden udgivelse af software</td>\n",
       "      <td>60</td>\n",
       "      <td>Aktieselskab</td>\n",
       "      <td>None</td>\n",
       "      <td>False</td>\n",
       "      <td>NaN</td>\n",
       "      <td>[{'name': 'Formpipe Software AB'}]</td>\n",
       "      <td>[{'pno': 1008829868, 'main': True, 'name': 'FO...</td>\n",
       "      <td>100</td>\n",
       "      <td>6</td>\n",
       "    </tr>\n",
       "    <tr>\n",
       "      <th>Novo Nordisk</th>\n",
       "      <td>24256790</td>\n",
       "      <td>NOVO NORDISK A/S</td>\n",
       "      <td>Novo Alle 1</td>\n",
       "      <td>2880</td>\n",
       "      <td>Bagsværd</td>\n",
       "      <td>None</td>\n",
       "      <td>False</td>\n",
       "      <td>44448888.0</td>\n",
       "      <td>None</td>\n",
       "      <td>NaN</td>\n",
       "      <td>...</td>\n",
       "      <td>Fremstilling af farmaceutiske præparater</td>\n",
       "      <td>60</td>\n",
       "      <td>Aktieselskab</td>\n",
       "      <td>None</td>\n",
       "      <td>False</td>\n",
       "      <td>NaN</td>\n",
       "      <td>None</td>\n",
       "      <td>[{'pno': 1017661031, 'main': False, 'name': 'N...</td>\n",
       "      <td>100</td>\n",
       "      <td>6</td>\n",
       "    </tr>\n",
       "    <tr>\n",
       "      <th>PFA</th>\n",
       "      <td>31050162</td>\n",
       "      <td>PFA BANK A/S</td>\n",
       "      <td>Sundkrogsgade 4</td>\n",
       "      <td>2100</td>\n",
       "      <td>København Ø</td>\n",
       "      <td>None</td>\n",
       "      <td>False</td>\n",
       "      <td>70808500.0</td>\n",
       "      <td>post@pfabank.dk</td>\n",
       "      <td>39172950.0</td>\n",
       "      <td>...</td>\n",
       "      <td>Banker, sparekasser og andelskasser</td>\n",
       "      <td>60</td>\n",
       "      <td>Aktieselskab</td>\n",
       "      <td>None</td>\n",
       "      <td>False</td>\n",
       "      <td>NaN</td>\n",
       "      <td>None</td>\n",
       "      <td>[{'pno': 1013750293, 'main': True, 'name': 'PF...</td>\n",
       "      <td>100</td>\n",
       "      <td>6</td>\n",
       "    </tr>\n",
       "  </tbody>\n",
       "</table>\n",
       "<p>5 rows × 25 columns</p>\n",
       "</div>"
      ],
      "text/plain": [
       "                                        vat                          name  \\\n",
       "Dynatest A/S                       20318872      A/S DYNATEST ENGINEERING   \n",
       "Eriksholm Research Centre, Oticon  50091015  PROPOLIS RESEARCH CENTRE A/S   \n",
       "Formpipe                           26366216         FORMPIPE LASERNET A/S   \n",
       "Novo Nordisk                       24256790              NOVO NORDISK A/S   \n",
       "PFA                                31050162                  PFA BANK A/S   \n",
       "\n",
       "                                             address  zipcode            city  \\\n",
       "Dynatest A/S                         Generatorvej 21     2730          Herlev   \n",
       "Eriksholm Research Centre, Oticon  Lille Veksøvej 11     3670  Veksø Sjælland   \n",
       "Formpipe                               Lautrupvang 1     2750        Ballerup   \n",
       "Novo Nordisk                             Novo Alle 1     2880        Bagsværd   \n",
       "PFA                                  Sundkrogsgade 4     2100     København Ø   \n",
       "\n",
       "                                  cityname  protected       phone  \\\n",
       "Dynatest A/S                          None      False         NaN   \n",
       "Eriksholm Research Centre, Oticon     None      False         NaN   \n",
       "Formpipe                              None      False  43660210.0   \n",
       "Novo Nordisk                          None      False  44448888.0   \n",
       "PFA                                   None      False  70808500.0   \n",
       "\n",
       "                                                         email         fax  \\\n",
       "Dynatest A/S                                              None         NaN   \n",
       "Eriksholm Research Centre, Oticon                         None         NaN   \n",
       "Formpipe                           admin.lasernet@formpipe.com         NaN   \n",
       "Novo Nordisk                                              None         NaN   \n",
       "PFA                                            post@pfabank.dk  39172950.0   \n",
       "\n",
       "                                   ...  \\\n",
       "Dynatest A/S                       ...   \n",
       "Eriksholm Research Centre, Oticon  ...   \n",
       "Formpipe                           ...   \n",
       "Novo Nordisk                       ...   \n",
       "PFA                                ...   \n",
       "\n",
       "                                                                        industrydesc  \\\n",
       "Dynatest A/S                                                                 Uoplyst   \n",
       "Eriksholm Research Centre, Oticon  Andre liberale, videnskabelige og tekniske tje...   \n",
       "Formpipe                                                 Anden udgivelse af software   \n",
       "Novo Nordisk                                Fremstilling af farmaceutiske præparater   \n",
       "PFA                                              Banker, sparekasser og andelskasser   \n",
       "\n",
       "                                  companycode   companydesc creditstartdate  \\\n",
       "Dynatest A/S                               60  Aktieselskab    12/03 - 2001   \n",
       "Eriksholm Research Centre, Oticon          60  Aktieselskab            None   \n",
       "Formpipe                                   60  Aktieselskab            None   \n",
       "Novo Nordisk                               60  Aktieselskab            None   \n",
       "PFA                                        60  Aktieselskab            None   \n",
       "\n",
       "                                   creditbankrupt creditstatus  \\\n",
       "Dynatest A/S                                 True          1.0   \n",
       "Eriksholm Research Centre, Oticon           False          NaN   \n",
       "Formpipe                                    False          NaN   \n",
       "Novo Nordisk                                False          NaN   \n",
       "PFA                                         False          NaN   \n",
       "\n",
       "                                                               owners  \\\n",
       "Dynatest A/S                                                     None   \n",
       "Eriksholm Research Centre, Oticon                                None   \n",
       "Formpipe                           [{'name': 'Formpipe Software AB'}]   \n",
       "Novo Nordisk                                                     None   \n",
       "PFA                                                              None   \n",
       "\n",
       "                                                                     productionunits  \\\n",
       "Dynatest A/S                       [{'pno': 1004239898, 'main': True, 'name': 'A/...   \n",
       "Eriksholm Research Centre, Oticon  [{'pno': 1001942680, 'main': True, 'name': 'PR...   \n",
       "Formpipe                           [{'pno': 1008829868, 'main': True, 'name': 'FO...   \n",
       "Novo Nordisk                       [{'pno': 1017661031, 'main': False, 'name': 'N...   \n",
       "PFA                                [{'pno': 1013750293, 'main': True, 'name': 'PF...   \n",
       "\n",
       "                                     t  version  \n",
       "Dynatest A/S                       100        6  \n",
       "Eriksholm Research Centre, Oticon  100        6  \n",
       "Formpipe                           100        6  \n",
       "Novo Nordisk                       100        6  \n",
       "PFA                                100        6  \n",
       "\n",
       "[5 rows x 25 columns]"
      ]
     },
     "execution_count": 14,
     "metadata": {},
     "output_type": "execute_result"
    }
   ],
   "source": [
    "df_company = pd.DataFrame.from_dict(dict_company_data, orient='index')\n",
    "df_company.head()"
   ]
  },
  {
   "attachments": {},
   "cell_type": "markdown",
   "metadata": {},
   "source": [
    "## Get more data from Proff\n",
    "Because we don't have access to the API, and there's no way that I can see of deducing the URL to the company page, I will just make a `list` of URLs to scrape, one for each company. The annoying part is having to update this when new companies are added. Same goes for the URLs below when we do text vectorisation."
   ]
  },
  {
   "cell_type": "code",
   "execution_count": 16,
   "metadata": {},
   "outputs": [],
   "source": [
    "def proff_url_regnskab(url):\n",
    "    \"\"\"Returns the url to the regnskab page of a proff.dk url\"\"\"\n",
    "    # Using urllib to parse the url and replace the first path element\n",
    "    # Could've used string manipulation to replace 'firma' with 'regnskab', but that could be error prone\n",
    "    # Could've also used split and join on the string, but this seems more robust. Specifically targets the path of the URL.\n",
    "    parsed = urlparse(url)\n",
    "    path = parsed.path.split('/')\n",
    "    path[1] = 'regnskab'                                    # will error if path is empty (a single '/' is good enough)\n",
    "    return parsed._replace(path='/'.join(path)).geturl()    # geturl should be the same as urlunparse(parsed)\n",
    "\n",
    "def get_proff_employee_count(url):\n",
    "    \"\"\"Returns the number of employees from a proff.dk url\"\"\"\n",
    "    r = requests.get(url)\n",
    "    r.raise_for_status()\n",
    "    soup = BeautifulSoup(r.text, 'html.parser')\n",
    "    employees = soup.select_one('li.employees-info > em')\n",
    "    return int(employees.text) if employees else None\n",
    "\n",
    "def get_proff_financial_data(url):\n",
    "    \"\"\"Returns the financial data from a proff.dk url\"\"\"\n",
    "    # I could use bs4 to get the table and pass to pandas, but it's easier to just use pandas to find it\n",
    "    # The match parameter is used to only get the table with the correct header\n",
    "    df = pd.read_html(url, match='RESULTATREGNSKAB', index_col=0, encoding='utf-8', na_values='-')[0]\n",
    "\n",
    "    # get result row as new series to avoid it being a view\n",
    "    # I could've not indexed the df or used iloc here, and then the encoding wouldn't have been an issue\n",
    "    s = pd.Series(df.loc['Årets resultat'])\n",
    "\n",
    "    # drop last index\n",
    "    s.drop(s.index[-1], inplace=True)\n",
    "    # remove month from year-month index\n",
    "    s.rename(lambda i: i.split('-')[0] , inplace=True)\n",
    "    # remove dots and replace commas with dots, then convert to float\n",
    "    s = s.apply(lambda x: x.replace('.', '').replace(',', '.') if isinstance(x, str) else x).astype(float)\n",
    "    return s\n",
    "\n",
    "def get_proff_data(url):\n",
    "    \"\"\"\n",
    "    Fetches data from proff.dk and returns it as a dict.\n",
    "\n",
    "    It contains the number of employees and the financial data.\n",
    "    \"\"\"\n",
    "    print(url)\n",
    "    employees  = get_proff_employee_count(url)\n",
    "\n",
    "    url = proff_url_regnskab(url)\n",
    "    finances = get_proff_financial_data(url)\n",
    "    finances['employees'] = employees\n",
    "    return finances.to_dict()"
   ]
  },
  {
   "cell_type": "code",
   "execution_count": 17,
   "metadata": {},
   "outputs": [],
   "source": [
    "proff_data = json_or_get('data/proff_data.json', proff_urls, get_proff_data)"
   ]
  },
  {
   "attachments": {},
   "cell_type": "markdown",
   "metadata": {},
   "source": [
    "Now that we have the data from Proff, we can add it to our dataframe."
   ]
  },
  {
   "cell_type": "code",
   "execution_count": 18,
   "metadata": {},
   "outputs": [
    {
     "data": {
      "text/html": [
       "<div>\n",
       "<style scoped>\n",
       "    .dataframe tbody tr th:only-of-type {\n",
       "        vertical-align: middle;\n",
       "    }\n",
       "\n",
       "    .dataframe tbody tr th {\n",
       "        vertical-align: top;\n",
       "    }\n",
       "\n",
       "    .dataframe thead th {\n",
       "        text-align: right;\n",
       "    }\n",
       "</style>\n",
       "<table border=\"1\" class=\"dataframe\">\n",
       "  <thead>\n",
       "    <tr style=\"text-align: right;\">\n",
       "      <th></th>\n",
       "      <th>2022</th>\n",
       "      <th>2021</th>\n",
       "      <th>2020</th>\n",
       "      <th>employees</th>\n",
       "      <th>2019</th>\n",
       "      <th>2018</th>\n",
       "      <th>2017</th>\n",
       "      <th>2016</th>\n",
       "      <th>2015</th>\n",
       "      <th>2014</th>\n",
       "      <th>2013</th>\n",
       "    </tr>\n",
       "  </thead>\n",
       "  <tbody>\n",
       "    <tr>\n",
       "      <th>Dynatest A/S</th>\n",
       "      <td>3581.0</td>\n",
       "      <td>9606.0</td>\n",
       "      <td>4530.0</td>\n",
       "      <td>36.0</td>\n",
       "      <td>NaN</td>\n",
       "      <td>NaN</td>\n",
       "      <td>NaN</td>\n",
       "      <td>NaN</td>\n",
       "      <td>NaN</td>\n",
       "      <td>NaN</td>\n",
       "      <td>NaN</td>\n",
       "    </tr>\n",
       "    <tr>\n",
       "      <th>Eriksholm Research Centre, Oticon</th>\n",
       "      <td>NaN</td>\n",
       "      <td>1525319.0</td>\n",
       "      <td>165416.0</td>\n",
       "      <td>42.0</td>\n",
       "      <td>551594.0</td>\n",
       "      <td>962573.0</td>\n",
       "      <td>1011568.0</td>\n",
       "      <td>743559.0</td>\n",
       "      <td>730954.0</td>\n",
       "      <td>535275.0</td>\n",
       "      <td>798601.0</td>\n",
       "    </tr>\n",
       "    <tr>\n",
       "      <th>Formpipe</th>\n",
       "      <td>NaN</td>\n",
       "      <td>36583.0</td>\n",
       "      <td>14719.0</td>\n",
       "      <td>87.0</td>\n",
       "      <td>7525.0</td>\n",
       "      <td>10511.0</td>\n",
       "      <td>-748.0</td>\n",
       "      <td>-4924.0</td>\n",
       "      <td>-4145.0</td>\n",
       "      <td>-590.0</td>\n",
       "      <td>-7751.0</td>\n",
       "    </tr>\n",
       "    <tr>\n",
       "      <th>Novo Nordisk</th>\n",
       "      <td>NaN</td>\n",
       "      <td>47523000.0</td>\n",
       "      <td>42159000.0</td>\n",
       "      <td>22150.0</td>\n",
       "      <td>39252000.0</td>\n",
       "      <td>38530000.0</td>\n",
       "      <td>37873000.0</td>\n",
       "      <td>37791000.0</td>\n",
       "      <td>34623000.0</td>\n",
       "      <td>26413000.0</td>\n",
       "      <td>25190000.0</td>\n",
       "    </tr>\n",
       "    <tr>\n",
       "      <th>PFA</th>\n",
       "      <td>-511000.0</td>\n",
       "      <td>-79000.0</td>\n",
       "      <td>108000.0</td>\n",
       "      <td>1464.0</td>\n",
       "      <td>10000.0</td>\n",
       "      <td>92000.0</td>\n",
       "      <td>181000.0</td>\n",
       "      <td>136000.0</td>\n",
       "      <td>-587000.0</td>\n",
       "      <td>548000.0</td>\n",
       "      <td>224000.0</td>\n",
       "    </tr>\n",
       "    <tr>\n",
       "      <th>Topdanmark</th>\n",
       "      <td>NaN</td>\n",
       "      <td>2138000.0</td>\n",
       "      <td>NaN</td>\n",
       "      <td>8.0</td>\n",
       "      <td>1547000.0</td>\n",
       "      <td>1331000.0</td>\n",
       "      <td>1733000.0</td>\n",
       "      <td>1536000.0</td>\n",
       "      <td>1132000.0</td>\n",
       "      <td>1558000.0</td>\n",
       "      <td>1468000.0</td>\n",
       "    </tr>\n",
       "    <tr>\n",
       "      <th>KMD A/S</th>\n",
       "      <td>53926.0</td>\n",
       "      <td>2893.0</td>\n",
       "      <td>173758.0</td>\n",
       "      <td>1855.0</td>\n",
       "      <td>-238596.0</td>\n",
       "      <td>NaN</td>\n",
       "      <td>177700.0</td>\n",
       "      <td>244400.0</td>\n",
       "      <td>500600.0</td>\n",
       "      <td>81800.0</td>\n",
       "      <td>53100.0</td>\n",
       "    </tr>\n",
       "    <tr>\n",
       "      <th>NorthTech ApS</th>\n",
       "      <td>NaN</td>\n",
       "      <td>5.0</td>\n",
       "      <td>598.0</td>\n",
       "      <td>20.0</td>\n",
       "      <td>792.0</td>\n",
       "      <td>1124.0</td>\n",
       "      <td>1010.0</td>\n",
       "      <td>1497.0</td>\n",
       "      <td>1931.0</td>\n",
       "      <td>672.0</td>\n",
       "      <td>362.0</td>\n",
       "    </tr>\n",
       "    <tr>\n",
       "      <th>Alpha Solutions</th>\n",
       "      <td>3477.0</td>\n",
       "      <td>4334.0</td>\n",
       "      <td>-2940.0</td>\n",
       "      <td>59.0</td>\n",
       "      <td>-3279.0</td>\n",
       "      <td>4171.0</td>\n",
       "      <td>3385.0</td>\n",
       "      <td>2243.0</td>\n",
       "      <td>5079.0</td>\n",
       "      <td>3439.0</td>\n",
       "      <td>2500.0</td>\n",
       "    </tr>\n",
       "    <tr>\n",
       "      <th>Dafolo</th>\n",
       "      <td>36271.0</td>\n",
       "      <td>1339.0</td>\n",
       "      <td>40.0</td>\n",
       "      <td>83.0</td>\n",
       "      <td>3162.0</td>\n",
       "      <td>-489.0</td>\n",
       "      <td>-5862.0</td>\n",
       "      <td>-2121.0</td>\n",
       "      <td>1439.0</td>\n",
       "      <td>4170.0</td>\n",
       "      <td>844.0</td>\n",
       "    </tr>\n",
       "    <tr>\n",
       "      <th>Nuuday A/S</th>\n",
       "      <td>NaN</td>\n",
       "      <td>-390000.0</td>\n",
       "      <td>-410000.0</td>\n",
       "      <td>3642.0</td>\n",
       "      <td>-748000.0</td>\n",
       "      <td>-12.0</td>\n",
       "      <td>NaN</td>\n",
       "      <td>NaN</td>\n",
       "      <td>NaN</td>\n",
       "      <td>NaN</td>\n",
       "      <td>NaN</td>\n",
       "    </tr>\n",
       "    <tr>\n",
       "      <th>Netcompany A/S</th>\n",
       "      <td>NaN</td>\n",
       "      <td>583573.0</td>\n",
       "      <td>570944.0</td>\n",
       "      <td>2340.0</td>\n",
       "      <td>450133.0</td>\n",
       "      <td>426480.0</td>\n",
       "      <td>263889.0</td>\n",
       "      <td>169886.0</td>\n",
       "      <td>168878.0</td>\n",
       "      <td>133212.0</td>\n",
       "      <td>74403.0</td>\n",
       "    </tr>\n",
       "  </tbody>\n",
       "</table>\n",
       "</div>"
      ],
      "text/plain": [
       "                                       2022        2021        2020  \\\n",
       "Dynatest A/S                         3581.0      9606.0      4530.0   \n",
       "Eriksholm Research Centre, Oticon       NaN   1525319.0    165416.0   \n",
       "Formpipe                                NaN     36583.0     14719.0   \n",
       "Novo Nordisk                            NaN  47523000.0  42159000.0   \n",
       "PFA                               -511000.0    -79000.0    108000.0   \n",
       "Topdanmark                              NaN   2138000.0         NaN   \n",
       "KMD A/S                             53926.0      2893.0    173758.0   \n",
       "NorthTech ApS                           NaN         5.0       598.0   \n",
       "Alpha Solutions                      3477.0      4334.0     -2940.0   \n",
       "Dafolo                              36271.0      1339.0        40.0   \n",
       "Nuuday A/S                              NaN   -390000.0   -410000.0   \n",
       "Netcompany A/S                          NaN    583573.0    570944.0   \n",
       "\n",
       "                                   employees        2019        2018  \\\n",
       "Dynatest A/S                            36.0         NaN         NaN   \n",
       "Eriksholm Research Centre, Oticon       42.0    551594.0    962573.0   \n",
       "Formpipe                                87.0      7525.0     10511.0   \n",
       "Novo Nordisk                         22150.0  39252000.0  38530000.0   \n",
       "PFA                                   1464.0     10000.0     92000.0   \n",
       "Topdanmark                               8.0   1547000.0   1331000.0   \n",
       "KMD A/S                               1855.0   -238596.0         NaN   \n",
       "NorthTech ApS                           20.0       792.0      1124.0   \n",
       "Alpha Solutions                         59.0     -3279.0      4171.0   \n",
       "Dafolo                                  83.0      3162.0      -489.0   \n",
       "Nuuday A/S                            3642.0   -748000.0       -12.0   \n",
       "Netcompany A/S                        2340.0    450133.0    426480.0   \n",
       "\n",
       "                                         2017        2016        2015  \\\n",
       "Dynatest A/S                              NaN         NaN         NaN   \n",
       "Eriksholm Research Centre, Oticon   1011568.0    743559.0    730954.0   \n",
       "Formpipe                               -748.0     -4924.0     -4145.0   \n",
       "Novo Nordisk                       37873000.0  37791000.0  34623000.0   \n",
       "PFA                                  181000.0    136000.0   -587000.0   \n",
       "Topdanmark                          1733000.0   1536000.0   1132000.0   \n",
       "KMD A/S                              177700.0    244400.0    500600.0   \n",
       "NorthTech ApS                          1010.0      1497.0      1931.0   \n",
       "Alpha Solutions                        3385.0      2243.0      5079.0   \n",
       "Dafolo                                -5862.0     -2121.0      1439.0   \n",
       "Nuuday A/S                                NaN         NaN         NaN   \n",
       "Netcompany A/S                       263889.0    169886.0    168878.0   \n",
       "\n",
       "                                         2014        2013  \n",
       "Dynatest A/S                              NaN         NaN  \n",
       "Eriksholm Research Centre, Oticon    535275.0    798601.0  \n",
       "Formpipe                               -590.0     -7751.0  \n",
       "Novo Nordisk                       26413000.0  25190000.0  \n",
       "PFA                                  548000.0    224000.0  \n",
       "Topdanmark                          1558000.0   1468000.0  \n",
       "KMD A/S                               81800.0     53100.0  \n",
       "NorthTech ApS                           672.0       362.0  \n",
       "Alpha Solutions                        3439.0      2500.0  \n",
       "Dafolo                                 4170.0       844.0  \n",
       "Nuuday A/S                                NaN         NaN  \n",
       "Netcompany A/S                       133212.0     74403.0  "
      ]
     },
     "execution_count": 18,
     "metadata": {},
     "output_type": "execute_result"
    }
   ],
   "source": [
    "# from_dict has a messed up row order, so we transpose it\n",
    "df_proff = pd.DataFrame(proff_data).T\n",
    "df_proff.set_index(df_company.index, inplace=True)\n",
    "df_proff"
   ]
  },
  {
   "attachments": {},
   "cell_type": "markdown",
   "metadata": {},
   "source": [
    "The column order is slightly messed up because employees is encountered before the rest of the years, so we could move it to the front with `pop` and `insert`.\n",
    "\n",
    "```python\n",
    "df_proff.insert(0, 'employees', df_proff.pop('employees'))\n",
    "```\n",
    "\n",
    "However, we actually want to just replace the original column."
   ]
  },
  {
   "cell_type": "code",
   "execution_count": 19,
   "metadata": {},
   "outputs": [],
   "source": [
    "df_company['employees'] = df_proff.pop('employees')"
   ]
  },
  {
   "cell_type": "code",
   "execution_count": 20,
   "metadata": {},
   "outputs": [],
   "source": [
    "df_company = pd.concat([df_company, df_proff], axis=1)"
   ]
  },
  {
   "attachments": {},
   "cell_type": "markdown",
   "metadata": {},
   "source": [
    "## Cleaning the company DataFrame"
   ]
  },
  {
   "cell_type": "code",
   "execution_count": 21,
   "metadata": {},
   "outputs": [
    {
     "data": {
      "text/plain": [
       "vat                12\n",
       "name               12\n",
       "address            12\n",
       "zipcode            12\n",
       "city               12\n",
       "cityname            0\n",
       "protected          12\n",
       "phone               8\n",
       "email               6\n",
       "fax                 3\n",
       "startdate          12\n",
       "enddate             1\n",
       "employees          12\n",
       "addressco           0\n",
       "industrycode       12\n",
       "industrydesc       12\n",
       "companycode        12\n",
       "companydesc        12\n",
       "creditstartdate     1\n",
       "creditbankrupt     12\n",
       "creditstatus        1\n",
       "owners              2\n",
       "productionunits    12\n",
       "t                  12\n",
       "version            12\n",
       "2022                5\n",
       "2021               12\n",
       "2020               11\n",
       "2019               11\n",
       "2018               10\n",
       "2017               10\n",
       "2016               10\n",
       "2015               10\n",
       "2014               10\n",
       "2013               10\n",
       "dtype: int64"
      ]
     },
     "execution_count": 21,
     "metadata": {},
     "output_type": "execute_result"
    }
   ],
   "source": [
    "# Amount of non-nan values per column.\n",
    "df_company.count()"
   ]
  },
  {
   "cell_type": "code",
   "execution_count": 22,
   "metadata": {},
   "outputs": [
    {
     "data": {
      "text/plain": [
       "2022    7\n",
       "2021    0\n",
       "2020    1\n",
       "2019    1\n",
       "2018    2\n",
       "2017    2\n",
       "2016    2\n",
       "2015    2\n",
       "2014    2\n",
       "2013    2\n",
       "dtype: int64"
      ]
     },
     "execution_count": 22,
     "metadata": {},
     "output_type": "execute_result"
    }
   ],
   "source": [
    "# specifically the missing values of the financial data\n",
    "df_company.loc[:,'2022':].isna().sum()"
   ]
  },
  {
   "cell_type": "code",
   "execution_count": 23,
   "metadata": {},
   "outputs": [],
   "source": [
    "df_company.drop('2022', axis=1, inplace=True)"
   ]
  },
  {
   "cell_type": "code",
   "execution_count": 24,
   "metadata": {},
   "outputs": [],
   "source": [
    "no_rows = df_company.shape[0]\n",
    "df_company.dropna(axis=1, thresh=no_rows * 0.1, inplace=True)   # drops columns with 90 % missing data"
   ]
  },
  {
   "cell_type": "code",
   "execution_count": 25,
   "metadata": {},
   "outputs": [
    {
     "name": "stdout",
     "output_type": "stream",
     "text": [
      "['t', 'version']\n"
     ]
    }
   ],
   "source": [
    "def all_same(series):\n",
    "    return (series == series[0]).all()\n",
    "\n",
    "cols_with_same_vals = [col for col in df_company.columns if col != 'productionunits' and all_same(df_company[col])]\n",
    "print(cols_with_same_vals)\n",
    "df_company.drop(cols_with_same_vals, axis=1, inplace=True)"
   ]
  },
  {
   "cell_type": "code",
   "execution_count": 26,
   "metadata": {},
   "outputs": [],
   "source": [
    "# drop various columns I don't want\n",
    "df_company.drop(['protected', 'fax', 'companycode', 'companydesc', 'owners'], axis=1, inplace=True)"
   ]
  },
  {
   "cell_type": "code",
   "execution_count": 27,
   "metadata": {},
   "outputs": [],
   "source": [
    "# removes floor of addresses to format for geo coordinates search.\n",
    "df_company['address'] = df_company['address'].apply(lambda a: a.split(',')[0])"
   ]
  },
  {
   "cell_type": "code",
   "execution_count": 28,
   "metadata": {},
   "outputs": [],
   "source": [
    "df_company.to_csv('data/cleaned_data.csv')"
   ]
  },
  {
   "attachments": {},
   "cell_type": "markdown",
   "metadata": {},
   "source": [
    "## Geolocation data"
   ]
  },
  {
   "cell_type": "code",
   "execution_count": 29,
   "metadata": {},
   "outputs": [],
   "source": [
    "geolocator = Nominatim(user_agent='python-school-cphbusiness')\n",
    "geocode = RateLimiter(geolocator.geocode, min_delay_seconds=1)\n",
    "\n",
    "def get_geo_data(address):\n",
    "    loc = geocode(address)\n",
    "    # could use a dict to specify the format, but then I have to worry about formatting. Not all the city names are valid either.\n",
    "    # a straight search is easier to do\n",
    "    return (loc.latitude, loc.longitude) if loc else (None, None)"
   ]
  },
  {
   "cell_type": "code",
   "execution_count": 34,
   "metadata": {},
   "outputs": [],
   "source": [
    "geo_data = json_or_get('data/geo_data.json', df_company['address'], get_geo_data)"
   ]
  },
  {
   "cell_type": "code",
   "execution_count": 31,
   "metadata": {},
   "outputs": [],
   "source": [
    "# unzips the coordinate tuples\n",
    "lats, lons = zip(*geo_data.values())\n",
    "df_company['latitude'] = lats\n",
    "df_company['longitude'] = lons"
   ]
  },
  {
   "cell_type": "code",
   "execution_count": null,
   "metadata": {},
   "outputs": [],
   "source": [
    "df_company.to_csv('data/cleaned_data.csv')"
   ]
  },
  {
   "cell_type": "code",
   "execution_count": 30,
   "metadata": {},
   "outputs": [
    {
     "data": {
      "text/html": [
       "<div style=\"width:100%;\"><div style=\"position:relative;width:100%;height:0;padding-bottom:60%;\"><span style=\"color:#565656\">Make this Notebook Trusted to load map: File -> Trust Notebook</span><iframe srcdoc=\"&lt;!DOCTYPE html&gt;\n",
       "&lt;html&gt;\n",
       "&lt;head&gt;\n",
       "    \n",
       "    &lt;meta http-equiv=&quot;content-type&quot; content=&quot;text/html; charset=UTF-8&quot; /&gt;\n",
       "    \n",
       "        &lt;script&gt;\n",
       "            L_NO_TOUCH = false;\n",
       "            L_DISABLE_3D = false;\n",
       "        &lt;/script&gt;\n",
       "    \n",
       "    &lt;style&gt;html, body {width: 100%;height: 100%;margin: 0;padding: 0;}&lt;/style&gt;\n",
       "    &lt;style&gt;#map {position:absolute;top:0;bottom:0;right:0;left:0;}&lt;/style&gt;\n",
       "    &lt;script src=&quot;https://cdn.jsdelivr.net/npm/leaflet@1.9.3/dist/leaflet.js&quot;&gt;&lt;/script&gt;\n",
       "    &lt;script src=&quot;https://code.jquery.com/jquery-1.12.4.min.js&quot;&gt;&lt;/script&gt;\n",
       "    &lt;script src=&quot;https://cdn.jsdelivr.net/npm/bootstrap@5.2.2/dist/js/bootstrap.bundle.min.js&quot;&gt;&lt;/script&gt;\n",
       "    &lt;script src=&quot;https://cdnjs.cloudflare.com/ajax/libs/Leaflet.awesome-markers/2.0.2/leaflet.awesome-markers.js&quot;&gt;&lt;/script&gt;\n",
       "    &lt;link rel=&quot;stylesheet&quot; href=&quot;https://cdn.jsdelivr.net/npm/leaflet@1.9.3/dist/leaflet.css&quot;/&gt;\n",
       "    &lt;link rel=&quot;stylesheet&quot; href=&quot;https://cdn.jsdelivr.net/npm/bootstrap@5.2.2/dist/css/bootstrap.min.css&quot;/&gt;\n",
       "    &lt;link rel=&quot;stylesheet&quot; href=&quot;https://netdna.bootstrapcdn.com/bootstrap/3.0.0/css/bootstrap.min.css&quot;/&gt;\n",
       "    &lt;link rel=&quot;stylesheet&quot; href=&quot;https://cdn.jsdelivr.net/npm/@fortawesome/fontawesome-free@6.2.0/css/all.min.css&quot;/&gt;\n",
       "    &lt;link rel=&quot;stylesheet&quot; href=&quot;https://cdnjs.cloudflare.com/ajax/libs/Leaflet.awesome-markers/2.0.2/leaflet.awesome-markers.css&quot;/&gt;\n",
       "    &lt;link rel=&quot;stylesheet&quot; href=&quot;https://cdn.jsdelivr.net/gh/python-visualization/folium/folium/templates/leaflet.awesome.rotate.min.css&quot;/&gt;\n",
       "    \n",
       "            &lt;meta name=&quot;viewport&quot; content=&quot;width=device-width,\n",
       "                initial-scale=1.0, maximum-scale=1.0, user-scalable=no&quot; /&gt;\n",
       "            &lt;style&gt;\n",
       "                #map_1fdfb784464a4b30d640df0b98339b86 {\n",
       "                    position: relative;\n",
       "                    width: 100.0%;\n",
       "                    height: 100.0%;\n",
       "                    left: 0.0%;\n",
       "                    top: 0.0%;\n",
       "                }\n",
       "                .leaflet-container { font-size: 1rem; }\n",
       "            &lt;/style&gt;\n",
       "        \n",
       "&lt;/head&gt;\n",
       "&lt;body&gt;\n",
       "    \n",
       "    \n",
       "            &lt;div class=&quot;folium-map&quot; id=&quot;map_1fdfb784464a4b30d640df0b98339b86&quot; &gt;&lt;/div&gt;\n",
       "        \n",
       "&lt;/body&gt;\n",
       "&lt;script&gt;\n",
       "    \n",
       "    \n",
       "            var map_1fdfb784464a4b30d640df0b98339b86 = L.map(\n",
       "                &quot;map_1fdfb784464a4b30d640df0b98339b86&quot;,\n",
       "                {\n",
       "                    center: [55.72993, 12.4648],\n",
       "                    crs: L.CRS.EPSG3857,\n",
       "                    zoom: 12,\n",
       "                    zoomControl: true,\n",
       "                    preferCanvas: false,\n",
       "                }\n",
       "            );\n",
       "\n",
       "            \n",
       "\n",
       "        \n",
       "    \n",
       "            var tile_layer_eff5336e0975d5aca700a5f9956d33c2 = L.tileLayer(\n",
       "                &quot;https://{s}.tile.openstreetmap.org/{z}/{x}/{y}.png&quot;,\n",
       "                {&quot;attribution&quot;: &quot;Data by \\u0026copy; \\u003ca target=\\&quot;_blank\\&quot; href=\\&quot;http://openstreetmap.org\\&quot;\\u003eOpenStreetMap\\u003c/a\\u003e, under \\u003ca target=\\&quot;_blank\\&quot; href=\\&quot;http://www.openstreetmap.org/copyright\\&quot;\\u003eODbL\\u003c/a\\u003e.&quot;, &quot;detectRetina&quot;: false, &quot;maxNativeZoom&quot;: 18, &quot;maxZoom&quot;: 18, &quot;minZoom&quot;: 0, &quot;noWrap&quot;: false, &quot;opacity&quot;: 1, &quot;subdomains&quot;: &quot;abc&quot;, &quot;tms&quot;: false}\n",
       "            ).addTo(map_1fdfb784464a4b30d640df0b98339b86);\n",
       "        \n",
       "    \n",
       "            var marker_6a859e634c52b139c002dfb28b97f6f3 = L.marker(\n",
       "                [55.72993, 12.4648],\n",
       "                {}\n",
       "            ).addTo(map_1fdfb784464a4b30d640df0b98339b86);\n",
       "        \n",
       "    \n",
       "        var popup_4bb23178f0f0418fab4cdb54c0c607d3 = L.popup({&quot;maxWidth&quot;: &quot;100%&quot;});\n",
       "\n",
       "        \n",
       "            \n",
       "                var html_0cb2105c59d15d5fc1d06f3cf75c6bdd = $(`&lt;div id=&quot;html_0cb2105c59d15d5fc1d06f3cf75c6bdd&quot; style=&quot;width: 100.0%; height: 100.0%;&quot;&gt;&lt;b&gt;A/S DYNATEST ENGINEERING&lt;/b&gt; &lt;i&gt;Uoplyst&lt;/i&gt;&lt;/div&gt;`)[0];\n",
       "                popup_4bb23178f0f0418fab4cdb54c0c607d3.setContent(html_0cb2105c59d15d5fc1d06f3cf75c6bdd);\n",
       "            \n",
       "        \n",
       "\n",
       "        marker_6a859e634c52b139c002dfb28b97f6f3.bindPopup(popup_4bb23178f0f0418fab4cdb54c0c607d3)\n",
       "        ;\n",
       "\n",
       "        \n",
       "    \n",
       "    \n",
       "            var marker_bdb2caad7302d69bbd2eedc20952d675 = L.marker(\n",
       "                [55.757949, 12.228728],\n",
       "                {}\n",
       "            ).addTo(map_1fdfb784464a4b30d640df0b98339b86);\n",
       "        \n",
       "    \n",
       "        var popup_c2100d263f85428cb2e84d38ae119299 = L.popup({&quot;maxWidth&quot;: &quot;100%&quot;});\n",
       "\n",
       "        \n",
       "            \n",
       "                var html_7df42b08673cb166ff7cc6c44e188cad = $(`&lt;div id=&quot;html_7df42b08673cb166ff7cc6c44e188cad&quot; style=&quot;width: 100.0%; height: 100.0%;&quot;&gt;&lt;b&gt;PROPOLIS RESEARCH CENTRE A/S&lt;/b&gt; &lt;i&gt;Andre liberale, videnskabelige og tekniske tjenesteydelser i.a.n.&lt;/i&gt;&lt;/div&gt;`)[0];\n",
       "                popup_c2100d263f85428cb2e84d38ae119299.setContent(html_7df42b08673cb166ff7cc6c44e188cad);\n",
       "            \n",
       "        \n",
       "\n",
       "        marker_bdb2caad7302d69bbd2eedc20952d675.bindPopup(popup_c2100d263f85428cb2e84d38ae119299)\n",
       "        ;\n",
       "\n",
       "        \n",
       "    \n",
       "    \n",
       "            var marker_913f7bcaf2d79b934ce630d6c18b91f4 = L.marker(\n",
       "                [55.733204, 12.391164],\n",
       "                {}\n",
       "            ).addTo(map_1fdfb784464a4b30d640df0b98339b86);\n",
       "        \n",
       "    \n",
       "        var popup_2a2660c935fa0f89a05e02f1533d0ebe = L.popup({&quot;maxWidth&quot;: &quot;100%&quot;});\n",
       "\n",
       "        \n",
       "            \n",
       "                var html_6306604f5606e057e31e70180abefe5d = $(`&lt;div id=&quot;html_6306604f5606e057e31e70180abefe5d&quot; style=&quot;width: 100.0%; height: 100.0%;&quot;&gt;&lt;b&gt;FORMPIPE LASERNET A/S&lt;/b&gt; &lt;i&gt;Anden udgivelse af software&lt;/i&gt;&lt;/div&gt;`)[0];\n",
       "                popup_2a2660c935fa0f89a05e02f1533d0ebe.setContent(html_6306604f5606e057e31e70180abefe5d);\n",
       "            \n",
       "        \n",
       "\n",
       "        marker_913f7bcaf2d79b934ce630d6c18b91f4.bindPopup(popup_2a2660c935fa0f89a05e02f1533d0ebe)\n",
       "        ;\n",
       "\n",
       "        \n",
       "    \n",
       "    \n",
       "            var marker_ed8090fb15f927fbe836ceac5c5acec6 = L.marker(\n",
       "                [55.754555, 12.455185],\n",
       "                {}\n",
       "            ).addTo(map_1fdfb784464a4b30d640df0b98339b86);\n",
       "        \n",
       "    \n",
       "        var popup_a1b56a378087a4fcc5f2431fee524af9 = L.popup({&quot;maxWidth&quot;: &quot;100%&quot;});\n",
       "\n",
       "        \n",
       "            \n",
       "                var html_064288cb70de4a7d2a7e7669044def87 = $(`&lt;div id=&quot;html_064288cb70de4a7d2a7e7669044def87&quot; style=&quot;width: 100.0%; height: 100.0%;&quot;&gt;&lt;b&gt;NOVO NORDISK A/S&lt;/b&gt; &lt;i&gt;Fremstilling af farmaceutiske præparater&lt;/i&gt;&lt;/div&gt;`)[0];\n",
       "                popup_a1b56a378087a4fcc5f2431fee524af9.setContent(html_064288cb70de4a7d2a7e7669044def87);\n",
       "            \n",
       "        \n",
       "\n",
       "        marker_ed8090fb15f927fbe836ceac5c5acec6.bindPopup(popup_a1b56a378087a4fcc5f2431fee524af9)\n",
       "        ;\n",
       "\n",
       "        \n",
       "    \n",
       "    \n",
       "            var marker_584ec6766707331dac53704d131d7358 = L.marker(\n",
       "                [55.708655, 12.591288],\n",
       "                {}\n",
       "            ).addTo(map_1fdfb784464a4b30d640df0b98339b86);\n",
       "        \n",
       "    \n",
       "        var popup_04677ebf01fa54f3b352aefffe2e3a40 = L.popup({&quot;maxWidth&quot;: &quot;100%&quot;});\n",
       "\n",
       "        \n",
       "            \n",
       "                var html_74427b2e31e7bffc5fe504a3a87f7488 = $(`&lt;div id=&quot;html_74427b2e31e7bffc5fe504a3a87f7488&quot; style=&quot;width: 100.0%; height: 100.0%;&quot;&gt;&lt;b&gt;PFA BANK A/S&lt;/b&gt; &lt;i&gt;Banker, sparekasser og andelskasser&lt;/i&gt;&lt;/div&gt;`)[0];\n",
       "                popup_04677ebf01fa54f3b352aefffe2e3a40.setContent(html_74427b2e31e7bffc5fe504a3a87f7488);\n",
       "            \n",
       "        \n",
       "\n",
       "        marker_584ec6766707331dac53704d131d7358.bindPopup(popup_04677ebf01fa54f3b352aefffe2e3a40)\n",
       "        ;\n",
       "\n",
       "        \n",
       "    \n",
       "    \n",
       "            var marker_dd41ad47bff1e72a4b8f926664f17115 = L.marker(\n",
       "                [55.734142, 12.380579],\n",
       "                {}\n",
       "            ).addTo(map_1fdfb784464a4b30d640df0b98339b86);\n",
       "        \n",
       "    \n",
       "        var popup_ef7e016160f01fef351503b3a613561a = L.popup({&quot;maxWidth&quot;: &quot;100%&quot;});\n",
       "\n",
       "        \n",
       "            \n",
       "                var html_50699ec30e163be3a29aa92b4ac996e1 = $(`&lt;div id=&quot;html_50699ec30e163be3a29aa92b4ac996e1&quot; style=&quot;width: 100.0%; height: 100.0%;&quot;&gt;&lt;b&gt;TOPDANMARK A/S&lt;/b&gt; &lt;i&gt;Finansielle holdingselskaber&lt;/i&gt;&lt;/div&gt;`)[0];\n",
       "                popup_ef7e016160f01fef351503b3a613561a.setContent(html_50699ec30e163be3a29aa92b4ac996e1);\n",
       "            \n",
       "        \n",
       "\n",
       "        marker_dd41ad47bff1e72a4b8f926664f17115.bindPopup(popup_ef7e016160f01fef351503b3a613561a)\n",
       "        ;\n",
       "\n",
       "        \n",
       "    \n",
       "    \n",
       "            var marker_347d20db7a193641f58544f59dfc6491 = L.marker(\n",
       "                [55.73613, 12.393105],\n",
       "                {}\n",
       "            ).addTo(map_1fdfb784464a4b30d640df0b98339b86);\n",
       "        \n",
       "    \n",
       "        var popup_eb1f44ef0390c8b291bdc08e507f8aa2 = L.popup({&quot;maxWidth&quot;: &quot;100%&quot;});\n",
       "\n",
       "        \n",
       "            \n",
       "                var html_29a09a54398a7cfb17b52689b0435c3b = $(`&lt;div id=&quot;html_29a09a54398a7cfb17b52689b0435c3b&quot; style=&quot;width: 100.0%; height: 100.0%;&quot;&gt;&lt;b&gt;KMD A/S&lt;/b&gt; &lt;i&gt;Konsulentbistand vedrørende informationsteknologi&lt;/i&gt;&lt;/div&gt;`)[0];\n",
       "                popup_eb1f44ef0390c8b291bdc08e507f8aa2.setContent(html_29a09a54398a7cfb17b52689b0435c3b);\n",
       "            \n",
       "        \n",
       "\n",
       "        marker_347d20db7a193641f58544f59dfc6491.bindPopup(popup_eb1f44ef0390c8b291bdc08e507f8aa2)\n",
       "        ;\n",
       "\n",
       "        \n",
       "    \n",
       "    \n",
       "            var marker_755a252fed40d06ef4198407dfac7e25 = L.marker(\n",
       "                [55.674321, 12.591612],\n",
       "                {}\n",
       "            ).addTo(map_1fdfb784464a4b30d640df0b98339b86);\n",
       "        \n",
       "    \n",
       "        var popup_a189441a32133d35abe67637f16e876d = L.popup({&quot;maxWidth&quot;: &quot;100%&quot;});\n",
       "\n",
       "        \n",
       "            \n",
       "                var html_3cc547f7b18c01178df0370103bc5aae = $(`&lt;div id=&quot;html_3cc547f7b18c01178df0370103bc5aae&quot; style=&quot;width: 100.0%; height: 100.0%;&quot;&gt;&lt;b&gt;NORTHTECH ApS&lt;/b&gt; &lt;i&gt;Computerprogrammering&lt;/i&gt;&lt;/div&gt;`)[0];\n",
       "                popup_a189441a32133d35abe67637f16e876d.setContent(html_3cc547f7b18c01178df0370103bc5aae);\n",
       "            \n",
       "        \n",
       "\n",
       "        marker_755a252fed40d06ef4198407dfac7e25.bindPopup(popup_a189441a32133d35abe67637f16e876d)\n",
       "        ;\n",
       "\n",
       "        \n",
       "    \n",
       "    \n",
       "            var marker_8fcfed8ca12083b483af0192d4b7e09a = L.marker(\n",
       "                [55.682038, 12.583964],\n",
       "                {}\n",
       "            ).addTo(map_1fdfb784464a4b30d640df0b98339b86);\n",
       "        \n",
       "    \n",
       "        var popup_b30aca5735493e36fe68f9a07eed8c44 = L.popup({&quot;maxWidth&quot;: &quot;100%&quot;});\n",
       "\n",
       "        \n",
       "            \n",
       "                var html_5e90a62794fc6a05deade50e05d0ca8c = $(`&lt;div id=&quot;html_5e90a62794fc6a05deade50e05d0ca8c&quot; style=&quot;width: 100.0%; height: 100.0%;&quot;&gt;&lt;b&gt;ALPHA SOLUTIONS A/S&lt;/b&gt; &lt;i&gt;Konsulentbistand vedrørende informationsteknologi&lt;/i&gt;&lt;/div&gt;`)[0];\n",
       "                popup_b30aca5735493e36fe68f9a07eed8c44.setContent(html_5e90a62794fc6a05deade50e05d0ca8c);\n",
       "            \n",
       "        \n",
       "\n",
       "        marker_8fcfed8ca12083b483af0192d4b7e09a.bindPopup(popup_b30aca5735493e36fe68f9a07eed8c44)\n",
       "        ;\n",
       "\n",
       "        \n",
       "    \n",
       "    \n",
       "            var marker_ba095a32e91fd39bb2b2bda8908f14f5 = L.marker(\n",
       "                [57.4455297, 10.4937435],\n",
       "                {}\n",
       "            ).addTo(map_1fdfb784464a4b30d640df0b98339b86);\n",
       "        \n",
       "    \n",
       "        var popup_d1d476b83a44528fdf850e87e54b8b11 = L.popup({&quot;maxWidth&quot;: &quot;100%&quot;});\n",
       "\n",
       "        \n",
       "            \n",
       "                var html_2a98da6f3eca9de3c94d0a311042499f = $(`&lt;div id=&quot;html_2a98da6f3eca9de3c94d0a311042499f&quot; style=&quot;width: 100.0%; height: 100.0%;&quot;&gt;&lt;b&gt;DAFOLO A/S&lt;/b&gt; &lt;i&gt;Udgivelse af bøger&lt;/i&gt;&lt;/div&gt;`)[0];\n",
       "                popup_d1d476b83a44528fdf850e87e54b8b11.setContent(html_2a98da6f3eca9de3c94d0a311042499f);\n",
       "            \n",
       "        \n",
       "\n",
       "        marker_ba095a32e91fd39bb2b2bda8908f14f5.bindPopup(popup_d1d476b83a44528fdf850e87e54b8b11)\n",
       "        ;\n",
       "\n",
       "        \n",
       "    \n",
       "    \n",
       "            var marker_d707671152969e8eba046836b1a8254e = L.marker(\n",
       "                [55.653577, 12.544796],\n",
       "                {}\n",
       "            ).addTo(map_1fdfb784464a4b30d640df0b98339b86);\n",
       "        \n",
       "    \n",
       "        var popup_c0f8b3c248a03c15453118c90b19e2a2 = L.popup({&quot;maxWidth&quot;: &quot;100%&quot;});\n",
       "\n",
       "        \n",
       "            \n",
       "                var html_adcb741328078b2739a736f845933e43 = $(`&lt;div id=&quot;html_adcb741328078b2739a736f845933e43&quot; style=&quot;width: 100.0%; height: 100.0%;&quot;&gt;&lt;b&gt;Nuuday A/S&lt;/b&gt; &lt;i&gt;Fastnetbaseret telekommunikation&lt;/i&gt;&lt;/div&gt;`)[0];\n",
       "                popup_c0f8b3c248a03c15453118c90b19e2a2.setContent(html_adcb741328078b2739a736f845933e43);\n",
       "            \n",
       "        \n",
       "\n",
       "        marker_d707671152969e8eba046836b1a8254e.bindPopup(popup_c0f8b3c248a03c15453118c90b19e2a2)\n",
       "        ;\n",
       "\n",
       "        \n",
       "    \n",
       "    \n",
       "            var marker_858b5d5fbefed0aadc260c852f2766ac = L.marker(\n",
       "                [54.788356, 11.688986],\n",
       "                {}\n",
       "            ).addTo(map_1fdfb784464a4b30d640df0b98339b86);\n",
       "        \n",
       "    \n",
       "        var popup_15e53480d7786a16264483c6972ff52c = L.popup({&quot;maxWidth&quot;: &quot;100%&quot;});\n",
       "\n",
       "        \n",
       "            \n",
       "                var html_16a1a6c5a62b9903cdf751bbf3cff1d5 = $(`&lt;div id=&quot;html_16a1a6c5a62b9903cdf751bbf3cff1d5&quot; style=&quot;width: 100.0%; height: 100.0%;&quot;&gt;&lt;b&gt;Netcompany A/S&lt;/b&gt; &lt;i&gt;Konsulentbistand vedrørende informationsteknologi&lt;/i&gt;&lt;/div&gt;`)[0];\n",
       "                popup_15e53480d7786a16264483c6972ff52c.setContent(html_16a1a6c5a62b9903cdf751bbf3cff1d5);\n",
       "            \n",
       "        \n",
       "\n",
       "        marker_858b5d5fbefed0aadc260c852f2766ac.bindPopup(popup_15e53480d7786a16264483c6972ff52c)\n",
       "        ;\n",
       "\n",
       "        \n",
       "    \n",
       "&lt;/script&gt;\n",
       "&lt;/html&gt;\" style=\"position:absolute;width:100%;height:100%;left:0;top:0;border:none !important;\" allowfullscreen webkitallowfullscreen mozallowfullscreen></iframe></div></div>"
      ],
      "text/plain": [
       "<folium.folium.Map at 0x1f7e894a880>"
      ]
     },
     "execution_count": 30,
     "metadata": {},
     "output_type": "execute_result"
    }
   ],
   "source": [
    "first_coords = df_company.iloc[0][['latitude', 'longitude']]\n",
    "m = folium.Map(location=first_coords, zoom_start=12)\n",
    "for idx, row in df_company.iterrows():\n",
    "    folium.Marker(row[['latitude', 'longitude']], popup=f\"<b>{row['name']}</b> <i>{row['industrydesc']}</i>\").add_to(m)\n",
    "m.save('renders/map.html')\n",
    "m"
   ]
  },
  {
   "attachments": {},
   "cell_type": "markdown",
   "metadata": {},
   "source": [
    "### Location clustering"
   ]
  },
  {
   "cell_type": "code",
   "execution_count": null,
   "metadata": {},
   "outputs": [
    {
     "data": {
      "text/html": [
       "<div>\n",
       "<style scoped>\n",
       "    .dataframe tbody tr th:only-of-type {\n",
       "        vertical-align: middle;\n",
       "    }\n",
       "\n",
       "    .dataframe tbody tr th {\n",
       "        vertical-align: top;\n",
       "    }\n",
       "\n",
       "    .dataframe thead th {\n",
       "        text-align: right;\n",
       "    }\n",
       "</style>\n",
       "<table border=\"1\" class=\"dataframe\">\n",
       "  <thead>\n",
       "    <tr style=\"text-align: right;\">\n",
       "      <th></th>\n",
       "      <th>latitude</th>\n",
       "      <th>longitude</th>\n",
       "    </tr>\n",
       "  </thead>\n",
       "  <tbody>\n",
       "    <tr>\n",
       "      <th>Dynatest A/S</th>\n",
       "      <td>55.729930</td>\n",
       "      <td>12.464800</td>\n",
       "    </tr>\n",
       "    <tr>\n",
       "      <th>Eriksholm Research Centre, Oticon</th>\n",
       "      <td>55.757949</td>\n",
       "      <td>12.228728</td>\n",
       "    </tr>\n",
       "    <tr>\n",
       "      <th>Formpipe</th>\n",
       "      <td>55.733204</td>\n",
       "      <td>12.391164</td>\n",
       "    </tr>\n",
       "    <tr>\n",
       "      <th>Novo Nordisk</th>\n",
       "      <td>55.754555</td>\n",
       "      <td>12.455185</td>\n",
       "    </tr>\n",
       "    <tr>\n",
       "      <th>PFA</th>\n",
       "      <td>55.708655</td>\n",
       "      <td>12.591288</td>\n",
       "    </tr>\n",
       "    <tr>\n",
       "      <th>Topdanmark</th>\n",
       "      <td>55.734142</td>\n",
       "      <td>12.380579</td>\n",
       "    </tr>\n",
       "    <tr>\n",
       "      <th>KMD A/S</th>\n",
       "      <td>55.736130</td>\n",
       "      <td>12.393105</td>\n",
       "    </tr>\n",
       "    <tr>\n",
       "      <th>NorthTech ApS</th>\n",
       "      <td>55.674321</td>\n",
       "      <td>12.591612</td>\n",
       "    </tr>\n",
       "    <tr>\n",
       "      <th>Alpha Solutions</th>\n",
       "      <td>55.682038</td>\n",
       "      <td>12.583964</td>\n",
       "    </tr>\n",
       "    <tr>\n",
       "      <th>Dafolo</th>\n",
       "      <td>57.445530</td>\n",
       "      <td>10.493744</td>\n",
       "    </tr>\n",
       "    <tr>\n",
       "      <th>Nuuday A/S</th>\n",
       "      <td>55.653577</td>\n",
       "      <td>12.544796</td>\n",
       "    </tr>\n",
       "    <tr>\n",
       "      <th>Netcompany A/S</th>\n",
       "      <td>54.788356</td>\n",
       "      <td>11.688986</td>\n",
       "    </tr>\n",
       "  </tbody>\n",
       "</table>\n",
       "</div>"
      ],
      "text/plain": [
       "                                    latitude  longitude\n",
       "Dynatest A/S                       55.729930  12.464800\n",
       "Eriksholm Research Centre, Oticon  55.757949  12.228728\n",
       "Formpipe                           55.733204  12.391164\n",
       "Novo Nordisk                       55.754555  12.455185\n",
       "PFA                                55.708655  12.591288\n",
       "Topdanmark                         55.734142  12.380579\n",
       "KMD A/S                            55.736130  12.393105\n",
       "NorthTech ApS                      55.674321  12.591612\n",
       "Alpha Solutions                    55.682038  12.583964\n",
       "Dafolo                             57.445530  10.493744\n",
       "Nuuday A/S                         55.653577  12.544796\n",
       "Netcompany A/S                     54.788356  11.688986"
      ]
     },
     "metadata": {},
     "output_type": "display_data"
    }
   ],
   "source": [
    "coordinates = df_company[['latitude', 'longitude']]\n",
    "coordinates"
   ]
  },
  {
   "cell_type": "code",
   "execution_count": null,
   "metadata": {},
   "outputs": [
    {
     "data": {
      "image/png": "[encoded data removed]",
      "text/plain": [
       "<Figure size 640x480 with 1 Axes>"
      ]
     },
     "metadata": {},
     "output_type": "display_data"
    }
   ],
   "source": [
    "coordinates.plot.scatter(x='longitude', y='latitude')\n",
    "plt.show()"
   ]
  },
  {
   "attachments": {},
   "cell_type": "markdown",
   "metadata": {},
   "source": [
    "#### K-Means"
   ]
  },
  {
   "cell_type": "code",
   "execution_count": 52,
   "metadata": {},
   "outputs": [
    {
     "name": "stderr",
     "output_type": "stream",
     "text": [
      "C:\\Users\\kavvt\\AppData\\Roaming\\Python\\Python39\\site-packages\\sklearn\\cluster\\_kmeans.py:870: FutureWarning: The default value of `n_init` will change from 10 to 'auto' in 1.4. Set the value of `n_init` explicitly to suppress the warning\n",
      "  warnings.warn(\n",
      "C:\\Users\\kavvt\\AppData\\Roaming\\Python\\Python39\\site-packages\\sklearn\\cluster\\_kmeans.py:870: FutureWarning: The default value of `n_init` will change from 10 to 'auto' in 1.4. Set the value of `n_init` explicitly to suppress the warning\n",
      "  warnings.warn(\n",
      "C:\\Users\\kavvt\\AppData\\Roaming\\Python\\Python39\\site-packages\\sklearn\\cluster\\_kmeans.py:870: FutureWarning: The default value of `n_init` will change from 10 to 'auto' in 1.4. Set the value of `n_init` explicitly to suppress the warning\n",
      "  warnings.warn(\n",
      "C:\\Users\\kavvt\\AppData\\Roaming\\Python\\Python39\\site-packages\\sklearn\\cluster\\_kmeans.py:870: FutureWarning: The default value of `n_init` will change from 10 to 'auto' in 1.4. Set the value of `n_init` explicitly to suppress the warning\n",
      "  warnings.warn(\n",
      "C:\\Users\\kavvt\\AppData\\Roaming\\Python\\Python39\\site-packages\\sklearn\\cluster\\_kmeans.py:870: FutureWarning: The default value of `n_init` will change from 10 to 'auto' in 1.4. Set the value of `n_init` explicitly to suppress the warning\n",
      "  warnings.warn(\n",
      "C:\\Users\\kavvt\\AppData\\Roaming\\Python\\Python39\\site-packages\\sklearn\\cluster\\_kmeans.py:870: FutureWarning: The default value of `n_init` will change from 10 to 'auto' in 1.4. Set the value of `n_init` explicitly to suppress the warning\n",
      "  warnings.warn(\n",
      "C:\\Users\\kavvt\\AppData\\Roaming\\Python\\Python39\\site-packages\\sklearn\\cluster\\_kmeans.py:870: FutureWarning: The default value of `n_init` will change from 10 to 'auto' in 1.4. Set the value of `n_init` explicitly to suppress the warning\n",
      "  warnings.warn(\n",
      "C:\\Users\\kavvt\\AppData\\Roaming\\Python\\Python39\\site-packages\\sklearn\\cluster\\_kmeans.py:870: FutureWarning: The default value of `n_init` will change from 10 to 'auto' in 1.4. Set the value of `n_init` explicitly to suppress the warning\n",
      "  warnings.warn(\n"
     ]
    },
    {
     "name": "stdout",
     "output_type": "stream",
     "text": [
      "[0.4959958071332369, 0.22012975993165043, 0.08448080884621743, 0.035912054868322656, 0.022681517549925995, 0.011473942482264453, 0.007095886411240122, 0.0044384182373304526, 0.002235454876435728]\n"
     ]
    },
    {
     "name": "stderr",
     "output_type": "stream",
     "text": [
      "C:\\Users\\kavvt\\AppData\\Roaming\\Python\\Python39\\site-packages\\sklearn\\cluster\\_kmeans.py:870: FutureWarning: The default value of `n_init` will change from 10 to 'auto' in 1.4. Set the value of `n_init` explicitly to suppress the warning\n",
      "  warnings.warn(\n"
     ]
    }
   ],
   "source": [
    "distortions = []\n",
    "K = range(1, 10)\n",
    "for k in K:\n",
    "    kmeans = KMeans(n_clusters=k, n_init=10)\n",
    "    kmeans.fit(coordinates)\n",
    "    # calculate distortion and append to list\n",
    "    distortions.append(sum(np.min(cdist(coordinates, kmeans.cluster_centers_, 'euclidean'), axis=1)) / coordinates.shape[0])\n",
    "print(distortions)"
   ]
  },
  {
   "cell_type": "code",
   "execution_count": 44,
   "metadata": {},
   "outputs": [],
   "source": [
    "def plot_distortion_elbow():\n",
    "    plt.plot(K, distortions, 'bx-')\n",
    "    plt.xlabel('k')\n",
    "    plt.ylabel('Distortion')\n",
    "    plt.title('The Elbow Method showing the optimal k')\n",
    "    plt.show()"
   ]
  },
  {
   "cell_type": "code",
   "execution_count": 45,
   "metadata": {},
   "outputs": [
    {
     "data": {
      "image/png": "[encoded data removed]",
      "text/plain": [
       "<Figure size 640x480 with 1 Axes>"
      ]
     },
     "metadata": {},
     "output_type": "display_data"
    }
   ],
   "source": [
    "plot_distortion_elbow()"
   ]
  },
  {
   "cell_type": "code",
   "execution_count": 53,
   "metadata": {},
   "outputs": [
    {
     "name": "stderr",
     "output_type": "stream",
     "text": [
      "C:\\Users\\kavvt\\AppData\\Roaming\\Python\\Python39\\site-packages\\sklearn\\cluster\\_kmeans.py:870: FutureWarning: The default value of `n_init` will change from 10 to 'auto' in 1.4. Set the value of `n_init` explicitly to suppress the warning\n",
      "  warnings.warn(\n",
      "C:\\Users\\kavvt\\AppData\\Roaming\\Python\\Python39\\site-packages\\sklearn\\cluster\\_kmeans.py:870: FutureWarning: The default value of `n_init` will change from 10 to 'auto' in 1.4. Set the value of `n_init` explicitly to suppress the warning\n",
      "  warnings.warn(\n",
      "C:\\Users\\kavvt\\AppData\\Roaming\\Python\\Python39\\site-packages\\sklearn\\cluster\\_kmeans.py:870: FutureWarning: The default value of `n_init` will change from 10 to 'auto' in 1.4. Set the value of `n_init` explicitly to suppress the warning\n",
      "  warnings.warn(\n",
      "C:\\Users\\kavvt\\AppData\\Roaming\\Python\\Python39\\site-packages\\sklearn\\cluster\\_kmeans.py:870: FutureWarning: The default value of `n_init` will change from 10 to 'auto' in 1.4. Set the value of `n_init` explicitly to suppress the warning\n",
      "  warnings.warn(\n",
      "C:\\Users\\kavvt\\AppData\\Roaming\\Python\\Python39\\site-packages\\sklearn\\cluster\\_kmeans.py:870: FutureWarning: The default value of `n_init` will change from 10 to 'auto' in 1.4. Set the value of `n_init` explicitly to suppress the warning\n",
      "  warnings.warn(\n",
      "C:\\Users\\kavvt\\AppData\\Roaming\\Python\\Python39\\site-packages\\sklearn\\cluster\\_kmeans.py:870: FutureWarning: The default value of `n_init` will change from 10 to 'auto' in 1.4. Set the value of `n_init` explicitly to suppress the warning\n",
      "  warnings.warn(\n",
      "C:\\Users\\kavvt\\AppData\\Roaming\\Python\\Python39\\site-packages\\sklearn\\cluster\\_kmeans.py:870: FutureWarning: The default value of `n_init` will change from 10 to 'auto' in 1.4. Set the value of `n_init` explicitly to suppress the warning\n",
      "  warnings.warn(\n",
      "C:\\Users\\kavvt\\AppData\\Roaming\\Python\\Python39\\site-packages\\sklearn\\cluster\\_kmeans.py:870: FutureWarning: The default value of `n_init` will change from 10 to 'auto' in 1.4. Set the value of `n_init` explicitly to suppress the warning\n",
      "  warnings.warn(\n"
     ]
    },
    {
     "name": "stdout",
     "output_type": "stream",
     "text": [
      "[0.8012031976146012, 0.7318136838017938, 0.521909915714554, 0.5303114716214925, 0.5577558860230809, 0.47047554787787177, 0.433671304439214, 0.3257956421211086]\n"
     ]
    }
   ],
   "source": [
    "scores = []\n",
    "K = range(2, 10)\n",
    "for k in K:\n",
    "    kmeans = KMeans(n_clusters=k, n_init=10)\n",
    "    kmeans.fit(coordinates)\n",
    "    # default metric for silhouette is euclidean\n",
    "    scores.append(metrics.silhouette_score(coordinates, kmeans.labels_, sample_size=coordinates.shape[0]))\n",
    "print(scores)"
   ]
  },
  {
   "cell_type": "code",
   "execution_count": 76,
   "metadata": {},
   "outputs": [],
   "source": [
    "num_clusters = 4"
   ]
  },
  {
   "cell_type": "code",
   "execution_count": 77,
   "metadata": {},
   "outputs": [
    {
     "data": {
      "text/html": [
       "<style>#sk-container-id-3 {color: black;background-color: white;}#sk-container-id-3 pre{padding: 0;}#sk-container-id-3 div.sk-toggleable {background-color: white;}#sk-container-id-3 label.sk-toggleable__label {cursor: pointer;display: block;width: 100%;margin-bottom: 0;padding: 0.3em;box-sizing: border-box;text-align: center;}#sk-container-id-3 label.sk-toggleable__label-arrow:before {content: \"▸\";float: left;margin-right: 0.25em;color: #696969;}#sk-container-id-3 label.sk-toggleable__label-arrow:hover:before {color: black;}#sk-container-id-3 div.sk-estimator:hover label.sk-toggleable__label-arrow:before {color: black;}#sk-container-id-3 div.sk-toggleable__content {max-height: 0;max-width: 0;overflow: hidden;text-align: left;background-color: #f0f8ff;}#sk-container-id-3 div.sk-toggleable__content pre {margin: 0.2em;color: black;border-radius: 0.25em;background-color: #f0f8ff;}#sk-container-id-3 input.sk-toggleable__control:checked~div.sk-toggleable__content {max-height: 200px;max-width: 100%;overflow: auto;}#sk-container-id-3 input.sk-toggleable__control:checked~label.sk-toggleable__label-arrow:before {content: \"▾\";}#sk-container-id-3 div.sk-estimator input.sk-toggleable__control:checked~label.sk-toggleable__label {background-color: #d4ebff;}#sk-container-id-3 div.sk-label input.sk-toggleable__control:checked~label.sk-toggleable__label {background-color: #d4ebff;}#sk-container-id-3 input.sk-hidden--visually {border: 0;clip: rect(1px 1px 1px 1px);clip: rect(1px, 1px, 1px, 1px);height: 1px;margin: -1px;overflow: hidden;padding: 0;position: absolute;width: 1px;}#sk-container-id-3 div.sk-estimator {font-family: monospace;background-color: #f0f8ff;border: 1px dotted black;border-radius: 0.25em;box-sizing: border-box;margin-bottom: 0.5em;}#sk-container-id-3 div.sk-estimator:hover {background-color: #d4ebff;}#sk-container-id-3 div.sk-parallel-item::after {content: \"\";width: 100%;border-bottom: 1px solid gray;flex-grow: 1;}#sk-container-id-3 div.sk-label:hover label.sk-toggleable__label {background-color: #d4ebff;}#sk-container-id-3 div.sk-serial::before {content: \"\";position: absolute;border-left: 1px solid gray;box-sizing: border-box;top: 0;bottom: 0;left: 50%;z-index: 0;}#sk-container-id-3 div.sk-serial {display: flex;flex-direction: column;align-items: center;background-color: white;padding-right: 0.2em;padding-left: 0.2em;position: relative;}#sk-container-id-3 div.sk-item {position: relative;z-index: 1;}#sk-container-id-3 div.sk-parallel {display: flex;align-items: stretch;justify-content: center;background-color: white;position: relative;}#sk-container-id-3 div.sk-item::before, #sk-container-id-3 div.sk-parallel-item::before {content: \"\";position: absolute;border-left: 1px solid gray;box-sizing: border-box;top: 0;bottom: 0;left: 50%;z-index: -1;}#sk-container-id-3 div.sk-parallel-item {display: flex;flex-direction: column;z-index: 1;position: relative;background-color: white;}#sk-container-id-3 div.sk-parallel-item:first-child::after {align-self: flex-end;width: 50%;}#sk-container-id-3 div.sk-parallel-item:last-child::after {align-self: flex-start;width: 50%;}#sk-container-id-3 div.sk-parallel-item:only-child::after {width: 0;}#sk-container-id-3 div.sk-dashed-wrapped {border: 1px dashed gray;margin: 0 0.4em 0.5em 0.4em;box-sizing: border-box;padding-bottom: 0.4em;background-color: white;}#sk-container-id-3 div.sk-label label {font-family: monospace;font-weight: bold;display: inline-block;line-height: 1.2em;}#sk-container-id-3 div.sk-label-container {text-align: center;}#sk-container-id-3 div.sk-container {/* jupyter's `normalize.less` sets `[hidden] { display: none; }` but bootstrap.min.css set `[hidden] { display: none !important; }` so we also need the `!important` here to be able to override the default hidden behavior on the sphinx rendered scikit-learn.org. See: https://github.com/scikit-learn/scikit-learn/issues/21755 */display: inline-block !important;position: relative;}#sk-container-id-3 div.sk-text-repr-fallback {display: none;}</style><div id=\"sk-container-id-3\" class=\"sk-top-container\"><div class=\"sk-text-repr-fallback\"><pre>KMeans(n_clusters=4, n_init=20)</pre><b>In a Jupyter environment, please rerun this cell to show the HTML representation or trust the notebook. <br />On GitHub, the HTML representation is unable to render, please try loading this page with nbviewer.org.</b></div><div class=\"sk-container\" hidden><div class=\"sk-item\"><div class=\"sk-estimator sk-toggleable\"><input class=\"sk-toggleable__control sk-hidden--visually\" id=\"sk-estimator-id-3\" type=\"checkbox\" checked><label for=\"sk-estimator-id-3\" class=\"sk-toggleable__label sk-toggleable__label-arrow\">KMeans</label><div class=\"sk-toggleable__content\"><pre>KMeans(n_clusters=4, n_init=20)</pre></div></div></div></div></div>"
      ],
      "text/plain": [
       "KMeans(n_clusters=4, n_init=20)"
      ]
     },
     "execution_count": 77,
     "metadata": {},
     "output_type": "execute_result"
    }
   ],
   "source": [
    "kmeans = KMeans(n_clusters=num_clusters, init='k-means++', n_init=20)\n",
    "kmeans.fit(coordinates)"
   ]
  },
  {
   "cell_type": "code",
   "execution_count": 78,
   "metadata": {},
   "outputs": [
    {
     "data": {
      "text/plain": [
       "array([0, 0, 0, 0, 3, 0, 0, 3, 3, 1, 3, 2])"
      ]
     },
     "execution_count": 78,
     "metadata": {},
     "output_type": "execute_result"
    }
   ],
   "source": [
    "kmeans.labels_"
   ]
  },
  {
   "cell_type": "code",
   "execution_count": 79,
   "metadata": {},
   "outputs": [
    {
     "data": {
      "text/plain": [
       "array([[55.740985  , 12.3855935 ],\n",
       "       [57.4455297 , 10.4937435 ],\n",
       "       [54.788356  , 11.688986  ],\n",
       "       [55.67964775, 12.577915  ]])"
      ]
     },
     "execution_count": 79,
     "metadata": {},
     "output_type": "execute_result"
    }
   ],
   "source": [
    "kmeans.cluster_centers_"
   ]
  },
  {
   "cell_type": "code",
   "execution_count": 80,
   "metadata": {},
   "outputs": [
    {
     "data": {
      "image/png": "[encoded data removed]",
      "text/plain": [
       "<Figure size 640x480 with 1 Axes>"
      ]
     },
     "metadata": {},
     "output_type": "display_data"
    }
   ],
   "source": [
    "for i in range(num_clusters):\n",
    "    cluster = coordinates[kmeans.labels_ == i]\n",
    "    plt.scatter(cluster['longitude'], cluster['latitude'], label=f'Cluster {i}')"
   ]
  },
  {
   "attachments": {},
   "cell_type": "markdown",
   "metadata": {},
   "source": [
    "If you want to plot the clusters separately, then you should consider supplying the min and max values to the plot, so that they are mapped unto the same position as they would be in the plot with all of them."
   ]
  },
  {
   "cell_type": "code",
   "execution_count": 81,
   "metadata": {},
   "outputs": [
    {
     "data": {
      "text/plain": [
       "<matplotlib.collections.PathCollection at 0x1529d56db20>"
      ]
     },
     "execution_count": 81,
     "metadata": {},
     "output_type": "execute_result"
    },
    {
     "data": {
      "image/png": "[encoded data removed]",
      "text/plain": [
       "<Figure size 640x480 with 1 Axes>"
      ]
     },
     "metadata": {},
     "output_type": "display_data"
    }
   ],
   "source": [
    "# Another way to plot them all at once\n",
    "plt.scatter(coordinates['longitude'], coordinates['latitude'], c=kmeans.labels_, cmap='rainbow')\n",
    "# different cmap are colour schemes. See https://matplotlib.org/3.1.0/tutorials/colors/colormaps.html\n",
    "# 'viridis' is a good one too"
   ]
  },
  {
   "attachments": {},
   "cell_type": "markdown",
   "metadata": {},
   "source": [
    "And now with the boundaries of the clusters."
   ]
  },
  {
   "cell_type": "code",
   "execution_count": 82,
   "metadata": {},
   "outputs": [],
   "source": [
    "x_min, x_max = coordinates['longitude'].min(), coordinates['longitude'].max()\n",
    "y_min, y_max = coordinates['latitude'].min(), coordinates['latitude'].max()"
   ]
  },
  {
   "cell_type": "code",
   "execution_count": 83,
   "metadata": {},
   "outputs": [],
   "source": [
    "# we need a grid of points for drawing a smooth border between clusters\n",
    "# define step size of the mesh \n",
    "step_size = 0.01\n",
    "\n",
    "# we need to cover all points of our data\n",
    "# create a grid out of an array of X values and an array of y values\n",
    "x_coord = np.arange(x_min, x_max, step_size)\n",
    "y_coord = np.arange(y_min, y_max, step_size)\n",
    "\n",
    "# meshgrid() creates a matrix of coordinates from the two vectors of coordinates\n",
    "x_vals, y_vals = np.meshgrid(x_coord, y_coord)"
   ]
  },
  {
   "cell_type": "code",
   "execution_count": 84,
   "metadata": {},
   "outputs": [
    {
     "name": "stderr",
     "output_type": "stream",
     "text": [
      "C:\\Users\\kavvt\\AppData\\Roaming\\Python\\Python39\\site-packages\\sklearn\\base.py:420: UserWarning: X does not have valid feature names, but KMeans was fitted with feature names\n",
      "  warnings.warn(\n"
     ]
    }
   ],
   "source": [
    "# Predict cluster labels for all the points on the grid \n",
    "# ravel() returns 1D-array\n",
    "xx = x_vals.ravel()\n",
    "yy = y_vals.ravel()\n",
    "\n",
    "# np.c_ concatenates the arguments\n",
    "labels = kmeans.predict(np.c_[xx,yy])\n",
    "labels = labels.reshape(x_vals.shape)"
   ]
  },
  {
   "cell_type": "code",
   "execution_count": 85,
   "metadata": {},
   "outputs": [
    {
     "data": {
      "image/png": "[encoded data removed]",
      "text/plain": [
       "<Figure size 640x480 with 1 Axes>"
      ]
     },
     "metadata": {},
     "output_type": "display_data"
    }
   ],
   "source": [
    "# Plot the clusters\n",
    "# create new plot area\n",
    "plt.figure()\n",
    "# clear the plot area\n",
    "plt.clf()\n",
    "\n",
    "plt.title('Boundaries of clusters')\n",
    "\n",
    "# plot the frame\n",
    "plt.xlim(x_min, x_max)\n",
    "plt.ylim(y_min, y_max)\n",
    "\n",
    "# plot the clusters \n",
    "plt.imshow(labels, interpolation='nearest',\n",
    "           extent=(x_vals.min(), x_vals.max(), y_vals.min(), y_vals.max()),\n",
    "           cmap='viridis', aspect='auto')\n",
    "# plot the points as they belong to the clusters\n",
    "plt.scatter(coordinates['longitude'], coordinates['latitude'], marker='o', facecolors='none', edgecolors='white', s=30) \n",
    "\n",
    "# plot the centroids\n",
    "centers = kmeans.cluster_centers_\n",
    "plt.scatter(centers[:,0], centers[:,1],  s=200, linewidths=2, color='yellow', marker='*', zorder=3, facecolors='black')\n",
    "\n",
    "# annotate the centroids\n",
    "for i, center in enumerate(centers):\n",
    "    plt.annotate(i, center+[0.0,1.0], \n",
    "                 size=15, zorder=1, color='yellow', weight='bold', \n",
    "                 horizontalalignment='center', verticalalignment='center',) \n",
    "plt.show()"
   ]
  },
  {
   "attachments": {},
   "cell_type": "markdown",
   "metadata": {},
   "source": [
    "With some clusters only having one node, it looks ugly as hell, because those don't seem to show.\n",
    "\n",
    "Even with 4 clusters to some are grouped together, it looks extremely messed up."
   ]
  },
  {
   "attachments": {},
   "cell_type": "markdown",
   "metadata": {},
   "source": [
    "## Text Vectorisation"
   ]
  },
  {
   "cell_type": "code",
   "execution_count": 31,
   "metadata": {},
   "outputs": [],
   "source": [
    "df_company = pd.read_csv('data/cleaned_data.csv', index_col=0)"
   ]
  },
  {
   "cell_type": "code",
   "execution_count": 32,
   "metadata": {},
   "outputs": [
    {
     "name": "stderr",
     "output_type": "stream",
     "text": [
      "c:\\Python39\\lib\\site-packages\\tqdm\\auto.py:22: TqdmWarning: IProgress not found. Please update jupyter and ipywidgets. See https://ipywidgets.readthedocs.io/en/stable/user_install.html\n",
      "  from .autonotebook import tqdm as notebook_tqdm\n"
     ]
    }
   ],
   "source": [
    "embedder = SentenceTransformer('all-MiniLM-L6-v2')"
   ]
  },
  {
   "cell_type": "code",
   "execution_count": 33,
   "metadata": {},
   "outputs": [],
   "source": [
    "corpus_embeddings = embedder.encode(df_company['industrydesc'])"
   ]
  },
  {
   "attachments": {},
   "cell_type": "markdown",
   "metadata": {},
   "source": [
    "### Which two companies are closest?"
   ]
  },
  {
   "cell_type": "code",
   "execution_count": 34,
   "metadata": {},
   "outputs": [
    {
     "name": "stdout",
     "output_type": "stream",
     "text": [
      "6 8 1.0\n",
      "                                name  \\\n",
      "KMD A/S                      KMD A/S   \n",
      "Alpha Solutions  ALPHA SOLUTIONS A/S   \n",
      "\n",
      "                                                      industrydesc  \n",
      "KMD A/S          Konsulentbistand vedrørende informationsteknologi  \n",
      "Alpha Solutions  Konsulentbistand vedrørende informationsteknologi  \n"
     ]
    }
   ],
   "source": [
    "idx1 = 0\n",
    "idx2 = 0\n",
    "score = 0\n",
    "\n",
    "for i, query_embedding in enumerate(corpus_embeddings):\n",
    "    for j, corpus_embedding in enumerate(corpus_embeddings):\n",
    "        sim = util.cos_sim(query_embedding, corpus_embedding)\n",
    "        val = sim.tolist()[0][0]\n",
    "        # if new max similarity and not matching self\n",
    "        if score < val and i != j:\n",
    "            idx1 = i\n",
    "            idx2 = j\n",
    "            score = val\n",
    "\n",
    "print(idx1, idx2, score)\n",
    "print(df_company.iloc[[idx1, idx2]][['name', 'industrydesc']])"
   ]
  },
  {
   "cell_type": "markdown",
   "metadata": {},
   "source": [
    "### Scraping"
   ]
  },
  {
   "cell_type": "code",
   "execution_count": 35,
   "metadata": {},
   "outputs": [
    {
     "data": {
      "text/plain": [
       "Index(['Dynatest A/S', 'Eriksholm Research Centre, Oticon', 'Formpipe',\n",
       "       'Novo Nordisk', 'PFA', 'Topdanmark', 'KMD A/S', 'NorthTech ApS',\n",
       "       'Alpha Solutions', 'Dafolo', 'Nuuday A/S', 'Netcompany A/S'],\n",
       "      dtype='object')"
      ]
     },
     "execution_count": 35,
     "metadata": {},
     "output_type": "execute_result"
    }
   ],
   "source": [
    "df_company.index"
   ]
  },
  {
   "cell_type": "code",
   "execution_count": 36,
   "metadata": {},
   "outputs": [],
   "source": [
    "def get_website_text(url):\n",
    "    r = requests.get(url)\n",
    "    r.raise_for_status()\n",
    "    soup = BeautifulSoup(r.text, 'html.parser')\n",
    "    tags = soup.select('h1, h2, p')\n",
    "    return [tag.text for tag in tags]"
   ]
  },
  {
   "cell_type": "code",
   "execution_count": 37,
   "metadata": {},
   "outputs": [],
   "source": [
    "texts = json_or_get('data/website_text.json', website_urls, get_website_text)\n",
    "texts = {k: ' '.join(v) for k, v in texts.items()}\n",
    "# joins list of paragraphs for each website because I think that's what I actually need."
   ]
  },
  {
   "cell_type": "code",
   "execution_count": 38,
   "metadata": {},
   "outputs": [],
   "source": [
    "corpus_embeddings = embedder.encode(list(texts.values()))"
   ]
  },
  {
   "attachments": {},
   "cell_type": "markdown",
   "metadata": {},
   "source": [
    "### Querying"
   ]
  },
  {
   "cell_type": "code",
   "execution_count": 39,
   "metadata": {},
   "outputs": [],
   "source": [
    "queries = ['Software','development', 'udvikling', 'programmering', 'programming']\n",
    "query_embedding = embedder.encode(queries)"
   ]
  },
  {
   "cell_type": "code",
   "execution_count": 40,
   "metadata": {},
   "outputs": [
    {
     "name": "stdout",
     "output_type": "stream",
     "text": [
      "A/S DYNATEST ENGINEERING:\t\t0.1169\n",
      "PROPOLIS RESEARCH CENTRE A/S:\t\t0.1714\n",
      "FORMPIPE LASERNET A/S:\t\t0.1248\n",
      "NOVO NORDISK A/S:\t\t0.1259\n",
      "PFA BANK A/S:\t\t-0.0880\n",
      "TOPDANMARK A/S:\t\t0.1361\n",
      "KMD A/S:\t\t0.1953\n",
      "NORTHTECH ApS:\t\t0.2179\n",
      "ALPHA SOLUTIONS A/S:\t\t0.2515\n",
      "DAFOLO A/S:\t\t0.1993\n",
      "Nuuday A/S:\t\t0.1135\n",
      "Netcompany A/S:\t\t0.1811\n"
     ]
    }
   ],
   "source": [
    "for idx, embedding in enumerate(corpus_embeddings):\n",
    "    sim = util.cos_sim(query_embedding, embedding)\n",
    "    print(\"{}:\\t\\t{:.4f}\".format(df_company.iloc[idx]['name'], sim.tolist()[0][0]))"
   ]
  },
  {
   "attachments": {},
   "cell_type": "markdown",
   "metadata": {},
   "source": [
    "Whelp. Nuuday is the highest scoring even though it had literally 0 `<p>` tags. It's a JS website so we need Selenium to get proper data there.\n",
    "\n",
    "I've changed the selector to include `<h1>` and `<h2>`. That might make it more accurate."
   ]
  },
  {
   "cell_type": "code",
   "execution_count": 41,
   "metadata": {},
   "outputs": [
    {
     "data": {
      "text/html": [
       "<div>\n",
       "<style scoped>\n",
       "    .dataframe tbody tr th:only-of-type {\n",
       "        vertical-align: middle;\n",
       "    }\n",
       "\n",
       "    .dataframe tbody tr th {\n",
       "        vertical-align: top;\n",
       "    }\n",
       "\n",
       "    .dataframe thead th {\n",
       "        text-align: right;\n",
       "    }\n",
       "</style>\n",
       "<table border=\"1\" class=\"dataframe\">\n",
       "  <thead>\n",
       "    <tr style=\"text-align: right;\">\n",
       "      <th></th>\n",
       "      <th>vat</th>\n",
       "      <th>name</th>\n",
       "      <th>address</th>\n",
       "      <th>zipcode</th>\n",
       "      <th>city</th>\n",
       "      <th>phone</th>\n",
       "      <th>email</th>\n",
       "      <th>startdate</th>\n",
       "      <th>employees</th>\n",
       "      <th>industrycode</th>\n",
       "      <th>...</th>\n",
       "      <th>2020</th>\n",
       "      <th>2019</th>\n",
       "      <th>2018</th>\n",
       "      <th>2017</th>\n",
       "      <th>2016</th>\n",
       "      <th>2015</th>\n",
       "      <th>2014</th>\n",
       "      <th>2013</th>\n",
       "      <th>latitude</th>\n",
       "      <th>longitude</th>\n",
       "    </tr>\n",
       "  </thead>\n",
       "  <tbody>\n",
       "    <tr>\n",
       "      <th>Dynatest A/S</th>\n",
       "      <td>20318872</td>\n",
       "      <td>A/S DYNATEST ENGINEERING</td>\n",
       "      <td>Generatorvej 21</td>\n",
       "      <td>2730</td>\n",
       "      <td>Herlev</td>\n",
       "      <td>NaN</td>\n",
       "      <td>NaN</td>\n",
       "      <td>15/10 - 1981</td>\n",
       "      <td>36.0</td>\n",
       "      <td>980000</td>\n",
       "      <td>...</td>\n",
       "      <td>4530.0</td>\n",
       "      <td>NaN</td>\n",
       "      <td>NaN</td>\n",
       "      <td>NaN</td>\n",
       "      <td>NaN</td>\n",
       "      <td>NaN</td>\n",
       "      <td>NaN</td>\n",
       "      <td>NaN</td>\n",
       "      <td>55.729930</td>\n",
       "      <td>12.464800</td>\n",
       "    </tr>\n",
       "    <tr>\n",
       "      <th>Eriksholm Research Centre, Oticon</th>\n",
       "      <td>50091015</td>\n",
       "      <td>PROPOLIS RESEARCH CENTRE A/S</td>\n",
       "      <td>Lille Veksøvej 11</td>\n",
       "      <td>3670</td>\n",
       "      <td>Veksø Sjælland</td>\n",
       "      <td>NaN</td>\n",
       "      <td>NaN</td>\n",
       "      <td>10/09 - 1974</td>\n",
       "      <td>42.0</td>\n",
       "      <td>749090</td>\n",
       "      <td>...</td>\n",
       "      <td>165416.0</td>\n",
       "      <td>551594.0</td>\n",
       "      <td>962573.0</td>\n",
       "      <td>1011568.0</td>\n",
       "      <td>743559.0</td>\n",
       "      <td>730954.0</td>\n",
       "      <td>535275.0</td>\n",
       "      <td>798601.0</td>\n",
       "      <td>55.757949</td>\n",
       "      <td>12.228728</td>\n",
       "    </tr>\n",
       "    <tr>\n",
       "      <th>Formpipe</th>\n",
       "      <td>26366216</td>\n",
       "      <td>FORMPIPE LASERNET A/S</td>\n",
       "      <td>Lautrupvang 1</td>\n",
       "      <td>2750</td>\n",
       "      <td>Ballerup</td>\n",
       "      <td>43660210.0</td>\n",
       "      <td>admin.lasernet@formpipe.com</td>\n",
       "      <td>13/12 - 2001</td>\n",
       "      <td>87.0</td>\n",
       "      <td>582900</td>\n",
       "      <td>...</td>\n",
       "      <td>14719.0</td>\n",
       "      <td>7525.0</td>\n",
       "      <td>10511.0</td>\n",
       "      <td>-748.0</td>\n",
       "      <td>-4924.0</td>\n",
       "      <td>-4145.0</td>\n",
       "      <td>-590.0</td>\n",
       "      <td>-7751.0</td>\n",
       "      <td>55.733204</td>\n",
       "      <td>12.391164</td>\n",
       "    </tr>\n",
       "    <tr>\n",
       "      <th>Novo Nordisk</th>\n",
       "      <td>24256790</td>\n",
       "      <td>NOVO NORDISK A/S</td>\n",
       "      <td>Novo Alle 1</td>\n",
       "      <td>2880</td>\n",
       "      <td>Bagsværd</td>\n",
       "      <td>44448888.0</td>\n",
       "      <td>NaN</td>\n",
       "      <td>28/11 - 1931</td>\n",
       "      <td>22150.0</td>\n",
       "      <td>212000</td>\n",
       "      <td>...</td>\n",
       "      <td>42159000.0</td>\n",
       "      <td>39252000.0</td>\n",
       "      <td>38530000.0</td>\n",
       "      <td>37873000.0</td>\n",
       "      <td>37791000.0</td>\n",
       "      <td>34623000.0</td>\n",
       "      <td>26413000.0</td>\n",
       "      <td>25190000.0</td>\n",
       "      <td>55.754555</td>\n",
       "      <td>12.455185</td>\n",
       "    </tr>\n",
       "    <tr>\n",
       "      <th>PFA</th>\n",
       "      <td>31050162</td>\n",
       "      <td>PFA BANK A/S</td>\n",
       "      <td>Sundkrogsgade 4</td>\n",
       "      <td>2100</td>\n",
       "      <td>København Ø</td>\n",
       "      <td>70808500.0</td>\n",
       "      <td>post@pfabank.dk</td>\n",
       "      <td>02/11 - 2007</td>\n",
       "      <td>1464.0</td>\n",
       "      <td>641900</td>\n",
       "      <td>...</td>\n",
       "      <td>108000.0</td>\n",
       "      <td>10000.0</td>\n",
       "      <td>92000.0</td>\n",
       "      <td>181000.0</td>\n",
       "      <td>136000.0</td>\n",
       "      <td>-587000.0</td>\n",
       "      <td>548000.0</td>\n",
       "      <td>224000.0</td>\n",
       "      <td>55.708655</td>\n",
       "      <td>12.591288</td>\n",
       "    </tr>\n",
       "    <tr>\n",
       "      <th>Topdanmark</th>\n",
       "      <td>78040017</td>\n",
       "      <td>TOPDANMARK A/S</td>\n",
       "      <td>Borupvang 4</td>\n",
       "      <td>2750</td>\n",
       "      <td>Ballerup</td>\n",
       "      <td>70158585.0</td>\n",
       "      <td>NaN</td>\n",
       "      <td>20/05 - 1985</td>\n",
       "      <td>8.0</td>\n",
       "      <td>642010</td>\n",
       "      <td>...</td>\n",
       "      <td>NaN</td>\n",
       "      <td>1547000.0</td>\n",
       "      <td>1331000.0</td>\n",
       "      <td>1733000.0</td>\n",
       "      <td>1536000.0</td>\n",
       "      <td>1132000.0</td>\n",
       "      <td>1558000.0</td>\n",
       "      <td>1468000.0</td>\n",
       "      <td>55.734142</td>\n",
       "      <td>12.380579</td>\n",
       "    </tr>\n",
       "    <tr>\n",
       "      <th>KMD A/S</th>\n",
       "      <td>26911745</td>\n",
       "      <td>KMD A/S</td>\n",
       "      <td>Lautrupparken 40</td>\n",
       "      <td>2750</td>\n",
       "      <td>Ballerup</td>\n",
       "      <td>44601000.0</td>\n",
       "      <td>info@kmd.dk</td>\n",
       "      <td>03/12 - 2002</td>\n",
       "      <td>1855.0</td>\n",
       "      <td>620200</td>\n",
       "      <td>...</td>\n",
       "      <td>173758.0</td>\n",
       "      <td>-238596.0</td>\n",
       "      <td>NaN</td>\n",
       "      <td>177700.0</td>\n",
       "      <td>244400.0</td>\n",
       "      <td>500600.0</td>\n",
       "      <td>81800.0</td>\n",
       "      <td>53100.0</td>\n",
       "      <td>55.736130</td>\n",
       "      <td>12.393105</td>\n",
       "    </tr>\n",
       "    <tr>\n",
       "      <th>NorthTech ApS</th>\n",
       "      <td>10121361</td>\n",
       "      <td>NORTHTECH ApS</td>\n",
       "      <td>Wildersgade 51</td>\n",
       "      <td>1408</td>\n",
       "      <td>København K</td>\n",
       "      <td>NaN</td>\n",
       "      <td>kontakt@northtech.dk</td>\n",
       "      <td>20/01 - 2003</td>\n",
       "      <td>20.0</td>\n",
       "      <td>620100</td>\n",
       "      <td>...</td>\n",
       "      <td>598.0</td>\n",
       "      <td>792.0</td>\n",
       "      <td>1124.0</td>\n",
       "      <td>1010.0</td>\n",
       "      <td>1497.0</td>\n",
       "      <td>1931.0</td>\n",
       "      <td>672.0</td>\n",
       "      <td>362.0</td>\n",
       "      <td>55.674321</td>\n",
       "      <td>12.591612</td>\n",
       "    </tr>\n",
       "    <tr>\n",
       "      <th>Alpha Solutions</th>\n",
       "      <td>27506488</td>\n",
       "      <td>ALPHA SOLUTIONS A/S</td>\n",
       "      <td>Gothersgade 14</td>\n",
       "      <td>1123</td>\n",
       "      <td>København K</td>\n",
       "      <td>70206538.0</td>\n",
       "      <td>NaN</td>\n",
       "      <td>01/01 - 2004</td>\n",
       "      <td>59.0</td>\n",
       "      <td>620200</td>\n",
       "      <td>...</td>\n",
       "      <td>-2940.0</td>\n",
       "      <td>-3279.0</td>\n",
       "      <td>4171.0</td>\n",
       "      <td>3385.0</td>\n",
       "      <td>2243.0</td>\n",
       "      <td>5079.0</td>\n",
       "      <td>3439.0</td>\n",
       "      <td>2500.0</td>\n",
       "      <td>55.682038</td>\n",
       "      <td>12.583964</td>\n",
       "    </tr>\n",
       "    <tr>\n",
       "      <th>Dafolo</th>\n",
       "      <td>61966617</td>\n",
       "      <td>DAFOLO A/S</td>\n",
       "      <td>Suderbovej 22-24</td>\n",
       "      <td>9900</td>\n",
       "      <td>Frederikshavn</td>\n",
       "      <td>96206666.0</td>\n",
       "      <td>dafolo@dafolo.dk</td>\n",
       "      <td>06/12 - 1962</td>\n",
       "      <td>83.0</td>\n",
       "      <td>581100</td>\n",
       "      <td>...</td>\n",
       "      <td>40.0</td>\n",
       "      <td>3162.0</td>\n",
       "      <td>-489.0</td>\n",
       "      <td>-5862.0</td>\n",
       "      <td>-2121.0</td>\n",
       "      <td>1439.0</td>\n",
       "      <td>4170.0</td>\n",
       "      <td>844.0</td>\n",
       "      <td>57.445530</td>\n",
       "      <td>10.493744</td>\n",
       "    </tr>\n",
       "    <tr>\n",
       "      <th>Nuuday A/S</th>\n",
       "      <td>40075291</td>\n",
       "      <td>Nuuday A/S</td>\n",
       "      <td>Teglholmsgade 1</td>\n",
       "      <td>2450</td>\n",
       "      <td>København SV</td>\n",
       "      <td>NaN</td>\n",
       "      <td>NaN</td>\n",
       "      <td>07/12 - 2018</td>\n",
       "      <td>3642.0</td>\n",
       "      <td>611000</td>\n",
       "      <td>...</td>\n",
       "      <td>-410000.0</td>\n",
       "      <td>-748000.0</td>\n",
       "      <td>-12.0</td>\n",
       "      <td>NaN</td>\n",
       "      <td>NaN</td>\n",
       "      <td>NaN</td>\n",
       "      <td>NaN</td>\n",
       "      <td>NaN</td>\n",
       "      <td>55.653577</td>\n",
       "      <td>12.544796</td>\n",
       "    </tr>\n",
       "    <tr>\n",
       "      <th>Netcompany A/S</th>\n",
       "      <td>14814833</td>\n",
       "      <td>Netcompany A/S</td>\n",
       "      <td>Grønningen 17</td>\n",
       "      <td>1270</td>\n",
       "      <td>København K</td>\n",
       "      <td>70131440.0</td>\n",
       "      <td>info@netcompany.com</td>\n",
       "      <td>09/01 - 1991</td>\n",
       "      <td>2340.0</td>\n",
       "      <td>620200</td>\n",
       "      <td>...</td>\n",
       "      <td>570944.0</td>\n",
       "      <td>450133.0</td>\n",
       "      <td>426480.0</td>\n",
       "      <td>263889.0</td>\n",
       "      <td>169886.0</td>\n",
       "      <td>168878.0</td>\n",
       "      <td>133212.0</td>\n",
       "      <td>74403.0</td>\n",
       "      <td>54.788356</td>\n",
       "      <td>11.688986</td>\n",
       "    </tr>\n",
       "  </tbody>\n",
       "</table>\n",
       "<p>12 rows × 24 columns</p>\n",
       "</div>"
      ],
      "text/plain": [
       "                                        vat                          name  \\\n",
       "Dynatest A/S                       20318872      A/S DYNATEST ENGINEERING   \n",
       "Eriksholm Research Centre, Oticon  50091015  PROPOLIS RESEARCH CENTRE A/S   \n",
       "Formpipe                           26366216         FORMPIPE LASERNET A/S   \n",
       "Novo Nordisk                       24256790              NOVO NORDISK A/S   \n",
       "PFA                                31050162                  PFA BANK A/S   \n",
       "Topdanmark                         78040017                TOPDANMARK A/S   \n",
       "KMD A/S                            26911745                       KMD A/S   \n",
       "NorthTech ApS                      10121361                 NORTHTECH ApS   \n",
       "Alpha Solutions                    27506488           ALPHA SOLUTIONS A/S   \n",
       "Dafolo                             61966617                    DAFOLO A/S   \n",
       "Nuuday A/S                         40075291                    Nuuday A/S   \n",
       "Netcompany A/S                     14814833                Netcompany A/S   \n",
       "\n",
       "                                             address  zipcode            city  \\\n",
       "Dynatest A/S                         Generatorvej 21     2730          Herlev   \n",
       "Eriksholm Research Centre, Oticon  Lille Veksøvej 11     3670  Veksø Sjælland   \n",
       "Formpipe                               Lautrupvang 1     2750        Ballerup   \n",
       "Novo Nordisk                             Novo Alle 1     2880        Bagsværd   \n",
       "PFA                                  Sundkrogsgade 4     2100     København Ø   \n",
       "Topdanmark                               Borupvang 4     2750        Ballerup   \n",
       "KMD A/S                             Lautrupparken 40     2750        Ballerup   \n",
       "NorthTech ApS                         Wildersgade 51     1408     København K   \n",
       "Alpha Solutions                       Gothersgade 14     1123     København K   \n",
       "Dafolo                              Suderbovej 22-24     9900   Frederikshavn   \n",
       "Nuuday A/S                           Teglholmsgade 1     2450    København SV   \n",
       "Netcompany A/S                         Grønningen 17     1270     København K   \n",
       "\n",
       "                                        phone                        email  \\\n",
       "Dynatest A/S                              NaN                          NaN   \n",
       "Eriksholm Research Centre, Oticon         NaN                          NaN   \n",
       "Formpipe                           43660210.0  admin.lasernet@formpipe.com   \n",
       "Novo Nordisk                       44448888.0                          NaN   \n",
       "PFA                                70808500.0              post@pfabank.dk   \n",
       "Topdanmark                         70158585.0                          NaN   \n",
       "KMD A/S                            44601000.0                  info@kmd.dk   \n",
       "NorthTech ApS                             NaN         kontakt@northtech.dk   \n",
       "Alpha Solutions                    70206538.0                          NaN   \n",
       "Dafolo                             96206666.0             dafolo@dafolo.dk   \n",
       "Nuuday A/S                                NaN                          NaN   \n",
       "Netcompany A/S                     70131440.0          info@netcompany.com   \n",
       "\n",
       "                                      startdate  employees  industrycode  ...  \\\n",
       "Dynatest A/S                       15/10 - 1981       36.0        980000  ...   \n",
       "Eriksholm Research Centre, Oticon  10/09 - 1974       42.0        749090  ...   \n",
       "Formpipe                           13/12 - 2001       87.0        582900  ...   \n",
       "Novo Nordisk                       28/11 - 1931    22150.0        212000  ...   \n",
       "PFA                                02/11 - 2007     1464.0        641900  ...   \n",
       "Topdanmark                         20/05 - 1985        8.0        642010  ...   \n",
       "KMD A/S                            03/12 - 2002     1855.0        620200  ...   \n",
       "NorthTech ApS                      20/01 - 2003       20.0        620100  ...   \n",
       "Alpha Solutions                    01/01 - 2004       59.0        620200  ...   \n",
       "Dafolo                             06/12 - 1962       83.0        581100  ...   \n",
       "Nuuday A/S                         07/12 - 2018     3642.0        611000  ...   \n",
       "Netcompany A/S                     09/01 - 1991     2340.0        620200  ...   \n",
       "\n",
       "                                         2020        2019        2018  \\\n",
       "Dynatest A/S                           4530.0         NaN         NaN   \n",
       "Eriksholm Research Centre, Oticon    165416.0    551594.0    962573.0   \n",
       "Formpipe                              14719.0      7525.0     10511.0   \n",
       "Novo Nordisk                       42159000.0  39252000.0  38530000.0   \n",
       "PFA                                  108000.0     10000.0     92000.0   \n",
       "Topdanmark                                NaN   1547000.0   1331000.0   \n",
       "KMD A/S                              173758.0   -238596.0         NaN   \n",
       "NorthTech ApS                           598.0       792.0      1124.0   \n",
       "Alpha Solutions                       -2940.0     -3279.0      4171.0   \n",
       "Dafolo                                   40.0      3162.0      -489.0   \n",
       "Nuuday A/S                          -410000.0   -748000.0       -12.0   \n",
       "Netcompany A/S                       570944.0    450133.0    426480.0   \n",
       "\n",
       "                                         2017        2016        2015  \\\n",
       "Dynatest A/S                              NaN         NaN         NaN   \n",
       "Eriksholm Research Centre, Oticon   1011568.0    743559.0    730954.0   \n",
       "Formpipe                               -748.0     -4924.0     -4145.0   \n",
       "Novo Nordisk                       37873000.0  37791000.0  34623000.0   \n",
       "PFA                                  181000.0    136000.0   -587000.0   \n",
       "Topdanmark                          1733000.0   1536000.0   1132000.0   \n",
       "KMD A/S                              177700.0    244400.0    500600.0   \n",
       "NorthTech ApS                          1010.0      1497.0      1931.0   \n",
       "Alpha Solutions                        3385.0      2243.0      5079.0   \n",
       "Dafolo                                -5862.0     -2121.0      1439.0   \n",
       "Nuuday A/S                                NaN         NaN         NaN   \n",
       "Netcompany A/S                       263889.0    169886.0    168878.0   \n",
       "\n",
       "                                         2014        2013   latitude  \\\n",
       "Dynatest A/S                              NaN         NaN  55.729930   \n",
       "Eriksholm Research Centre, Oticon    535275.0    798601.0  55.757949   \n",
       "Formpipe                               -590.0     -7751.0  55.733204   \n",
       "Novo Nordisk                       26413000.0  25190000.0  55.754555   \n",
       "PFA                                  548000.0    224000.0  55.708655   \n",
       "Topdanmark                          1558000.0   1468000.0  55.734142   \n",
       "KMD A/S                               81800.0     53100.0  55.736130   \n",
       "NorthTech ApS                           672.0       362.0  55.674321   \n",
       "Alpha Solutions                        3439.0      2500.0  55.682038   \n",
       "Dafolo                                 4170.0       844.0  57.445530   \n",
       "Nuuday A/S                                NaN         NaN  55.653577   \n",
       "Netcompany A/S                       133212.0     74403.0  54.788356   \n",
       "\n",
       "                                   longitude  \n",
       "Dynatest A/S                       12.464800  \n",
       "Eriksholm Research Centre, Oticon  12.228728  \n",
       "Formpipe                           12.391164  \n",
       "Novo Nordisk                       12.455185  \n",
       "PFA                                12.591288  \n",
       "Topdanmark                         12.380579  \n",
       "KMD A/S                            12.393105  \n",
       "NorthTech ApS                      12.591612  \n",
       "Alpha Solutions                    12.583964  \n",
       "Dafolo                             10.493744  \n",
       "Nuuday A/S                         12.544796  \n",
       "Netcompany A/S                     11.688986  \n",
       "\n",
       "[12 rows x 24 columns]"
      ]
     },
     "execution_count": 41,
     "metadata": {},
     "output_type": "execute_result"
    }
   ],
   "source": [
    "df_company"
   ]
  },
  {
   "attachments": {},
   "cell_type": "markdown",
   "metadata": {},
   "source": [
    "## Data engineering"
   ]
  },
  {
   "cell_type": "code",
   "execution_count": 43,
   "metadata": {},
   "outputs": [
    {
     "name": "stdout",
     "output_type": "stream",
     "text": [
      "(12, 24)\n",
      "No. rows: 12\n",
      "No. columns: 24\n"
     ]
    }
   ],
   "source": [
    "shape = df_company.shape\n",
    "print(shape)\n",
    "print(f\"No. rows: {shape[0]}\")\n",
    "print(f\"No. columns: {shape[1]}\")"
   ]
  },
  {
   "cell_type": "code",
   "execution_count": 44,
   "metadata": {},
   "outputs": [
    {
     "data": {
      "text/plain": [
       "vat                  int64\n",
       "name                object\n",
       "address             object\n",
       "zipcode              int64\n",
       "city                object\n",
       "phone              float64\n",
       "email               object\n",
       "startdate           object\n",
       "employees          float64\n",
       "industrycode         int64\n",
       "industrydesc        object\n",
       "creditbankrupt        bool\n",
       "productionunits     object\n",
       "2021               float64\n",
       "2020               float64\n",
       "2019               float64\n",
       "2018               float64\n",
       "2017               float64\n",
       "2016               float64\n",
       "2015               float64\n",
       "2014               float64\n",
       "2013               float64\n",
       "latitude           float64\n",
       "longitude          float64\n",
       "dtype: object"
      ]
     },
     "execution_count": 44,
     "metadata": {},
     "output_type": "execute_result"
    }
   ],
   "source": [
    "df_company.dtypes"
   ]
  },
  {
   "cell_type": "code",
   "execution_count": 45,
   "metadata": {},
   "outputs": [
    {
     "data": {
      "text/plain": [
       "Index(['vat', 'zipcode', 'phone', 'employees', 'industrycode', '2021', '2020',\n",
       "       '2019', '2018', '2017', '2016', '2015', '2014', '2013', 'latitude',\n",
       "       'longitude'],\n",
       "      dtype='object')"
      ]
     },
     "execution_count": 45,
     "metadata": {},
     "output_type": "execute_result"
    }
   ],
   "source": [
    "numerical_cols = df_company.select_dtypes(np.number).columns\n",
    "numerical_cols"
   ]
  },
  {
   "attachments": {},
   "cell_type": "markdown",
   "metadata": {},
   "source": [
    "Really, only `employees` is proper numerical. And the coordinates but eh.\n",
    "\n",
    "Since scraping financial data from Proff.dk, all of that is numerical as well."
   ]
  },
  {
   "cell_type": "code",
   "execution_count": 46,
   "metadata": {},
   "outputs": [
    {
     "name": "stdout",
     "output_type": "stream",
     "text": [
      "Missing values:\t0\n",
      "Mean:\t\t2648.8333333333335\n",
      "Median:\t\t85.0\n",
      "Mode:\n",
      "0         8.0\n",
      "1        20.0\n",
      "2        36.0\n",
      "3        42.0\n",
      "4        59.0\n",
      "5        83.0\n",
      "6        87.0\n",
      "7      1464.0\n",
      "8      1855.0\n",
      "9      2340.0\n",
      "10     3642.0\n",
      "11    22150.0\n",
      "Name: employees, dtype: float64\n",
      "Min:\t\t8.0\n",
      "Max:\t\t22150.0\n",
      "Range:\t\t22142.0\n",
      "Variance:\t\t39161111.969696976\n",
      "Standard deviation:\t6257.883984998202\n"
     ]
    }
   ],
   "source": [
    "employees = df_company.employees\n",
    "print(f'Missing values:\\t{employees.isna().sum()}')\n",
    "print(f'Mean:\\t\\t{employees.mean()}')\n",
    "print(f'Median:\\t\\t{employees.median()}')\n",
    "print(f'Mode:\\n{employees.mode()}')\n",
    "print(f'Min:\\t\\t{employees.min()}')\n",
    "print(f'Max:\\t\\t{employees.max()}')\n",
    "print(f'Range:\\t\\t{employees.max() - employees.min()}')\n",
    "print(f'Variance:\\t\\t{employees.var()}')\n",
    "print(f'Standard deviation:\\t{employees.std()}')"
   ]
  },
  {
   "attachments": {},
   "cell_type": "markdown",
   "metadata": {},
   "source": [
    "Mode is all of them because no one value is repeated. They all have different amounts of employees."
   ]
  },
  {
   "cell_type": "code",
   "execution_count": 47,
   "metadata": {},
   "outputs": [
    {
     "data": {
      "text/plain": [
       "count       12.000000\n",
       "mean      2648.833333\n",
       "std       6257.883985\n",
       "min          8.000000\n",
       "25%         40.500000\n",
       "50%         85.000000\n",
       "75%       1976.250000\n",
       "max      22150.000000\n",
       "Name: employees, dtype: float64"
      ]
     },
     "execution_count": 47,
     "metadata": {},
     "output_type": "execute_result"
    }
   ],
   "source": [
    "# instead of printing everything separately\n",
    "# .describe() generates descriptive statistics\n",
    "# not NaN count\n",
    "# median is same as 50% quantile\n",
    "employees.describe()"
   ]
  },
  {
   "cell_type": "code",
   "execution_count": 48,
   "metadata": {},
   "outputs": [
    {
     "data": {
      "text/plain": [
       "<seaborn.axisgrid.FacetGrid at 0x1f78a727ac0>"
      ]
     },
     "execution_count": 48,
     "metadata": {},
     "output_type": "execute_result"
    },
    {
     "data": {
      "image/png": "[encoded data removed]",
      "text/plain": [
       "<Figure size 500x500 with 1 Axes>"
      ]
     },
     "metadata": {},
     "output_type": "display_data"
    }
   ],
   "source": [
    "sns.displot(employees, kind='hist', bins=50) # histogram is default kind"
   ]
  },
  {
   "attachments": {},
   "cell_type": "markdown",
   "metadata": {},
   "source": [
    "Mean is **HEAVILY** skewed because of larger companies like **Novo Nordisk**.\n",
    "\n",
    "It absolutely does **not** follow normal distribution, but our sample size is tiny, and variance is humongous.\n",
    "\n",
    "Let's remove outliers and replace missing values with **median**.\n",
    "\n",
    "(*Since scraping employee data from Proff.dk, we no longer have missing values.*)"
   ]
  },
  {
   "cell_type": "code",
   "execution_count": 49,
   "metadata": {},
   "outputs": [
    {
     "name": "stdout",
     "output_type": "stream",
     "text": [
      "14.600000000000001 11970.599999999988\n",
      "0.05       14.6\n",
      "0.50       85.0\n",
      "0.95    11970.6\n",
      "Name: employees, dtype: float64\n"
     ]
    }
   ],
   "source": [
    "lo = employees.quantile(.05)\n",
    "hi = employees.quantile(.95)\n",
    "print(lo, hi)\n",
    "print(employees.quantile([.05,.5,.95])) # other way to get those values. 0.5 included for fun because it's also the median."
   ]
  },
  {
   "cell_type": "code",
   "execution_count": 50,
   "metadata": {},
   "outputs": [
    {
     "name": "stdout",
     "output_type": "stream",
     "text": [
      "Dynatest A/S                           36.0\n",
      "Eriksholm Research Centre, Oticon      42.0\n",
      "Formpipe                               87.0\n",
      "PFA                                  1464.0\n",
      "KMD A/S                              1855.0\n",
      "NorthTech ApS                          20.0\n",
      "Alpha Solutions                        59.0\n",
      "Dafolo                                 83.0\n",
      "Nuuday A/S                           3642.0\n",
      "Netcompany A/S                       2340.0\n",
      "Name: employees, dtype: float64\n",
      "count      10.000000\n",
      "mean      962.800000\n",
      "std      1294.245623\n",
      "min        20.000000\n",
      "25%        46.250000\n",
      "50%        85.000000\n",
      "75%      1757.250000\n",
      "max      3642.000000\n",
      "Name: employees, dtype: float64\n"
     ]
    }
   ],
   "source": [
    "no_outliers = employees[(employees < hi) & (employees > lo)]\n",
    "print(no_outliers)\n",
    "print(no_outliers.describe())\n",
    "# median is the same"
   ]
  },
  {
   "cell_type": "code",
   "execution_count": 51,
   "metadata": {},
   "outputs": [
    {
     "data": {
      "text/plain": [
       "<seaborn.axisgrid.FacetGrid at 0x1f78a727370>"
      ]
     },
     "execution_count": 51,
     "metadata": {},
     "output_type": "execute_result"
    },
    {
     "data": {
      "image/png": "[encoded data removed]",
      "text/plain": [
       "<Figure size 500x500 with 1 Axes>"
      ]
     },
     "metadata": {},
     "output_type": "display_data"
    }
   ],
   "source": [
    "sns.displot(no_outliers, bins=50)"
   ]
  },
  {
   "attachments": {},
   "cell_type": "markdown",
   "metadata": {},
   "source": [
    "Not much really changed from the previous plot."
   ]
  },
  {
   "cell_type": "code",
   "execution_count": 52,
   "metadata": {},
   "outputs": [
    {
     "data": {
      "text/plain": [
       "Dynatest A/S                            36.0\n",
       "Eriksholm Research Centre, Oticon       42.0\n",
       "Formpipe                                87.0\n",
       "Novo Nordisk                         22150.0\n",
       "PFA                                   1464.0\n",
       "Topdanmark                               8.0\n",
       "KMD A/S                               1855.0\n",
       "NorthTech ApS                           20.0\n",
       "Alpha Solutions                         59.0\n",
       "Dafolo                                  83.0\n",
       "Nuuday A/S                            3642.0\n",
       "Netcompany A/S                        2340.0\n",
       "Name: employees, dtype: float64"
      ]
     },
     "execution_count": 52,
     "metadata": {},
     "output_type": "execute_result"
    }
   ],
   "source": [
    "df_company.employees.fillna(employees.median(), inplace=True) # median has skipna=True by default\n",
    "df_company.employees"
   ]
  },
  {
   "attachments": {},
   "cell_type": "markdown",
   "metadata": {},
   "source": [
    "## Encoding text data\n",
    "The only real labels I can see are the *city names*, and *industry types*. Cities are kind of already encoded to numerical with ZIP codes, and the industries already have a code used in the API. But let's one-hot encode it anyway."
   ]
  },
  {
   "cell_type": "code",
   "execution_count": 53,
   "metadata": {},
   "outputs": [],
   "source": [
    "ohe = OneHotEncoder(sparse_output=False)"
   ]
  },
  {
   "cell_type": "code",
   "execution_count": 54,
   "metadata": {},
   "outputs": [
    {
     "data": {
      "text/plain": [
       "array([[0., 0., 0., 1., 0., 0., 0., 0., 0., 0., 0., 0., 0., 0., 0., 0.,\n",
       "        0., 1.],\n",
       "       [0., 0., 0., 0., 0., 0., 0., 1., 0., 1., 0., 0., 0., 0., 0., 0.,\n",
       "        0., 0.],\n",
       "       [0., 1., 0., 0., 0., 0., 0., 0., 1., 0., 0., 0., 0., 0., 0., 0.,\n",
       "        0., 0.],\n",
       "       [1., 0., 0., 0., 0., 0., 0., 0., 0., 0., 0., 0., 0., 0., 1., 0.,\n",
       "        0., 0.],\n",
       "       [0., 0., 0., 0., 0., 0., 1., 0., 0., 0., 1., 0., 0., 0., 0., 0.,\n",
       "        0., 0.],\n",
       "       [0., 1., 0., 0., 0., 0., 0., 0., 0., 0., 0., 0., 0., 1., 0., 0.,\n",
       "        0., 0.],\n",
       "       [0., 1., 0., 0., 0., 0., 0., 0., 0., 0., 0., 0., 0., 0., 0., 1.,\n",
       "        0., 0.],\n",
       "       [0., 0., 0., 0., 1., 0., 0., 0., 0., 0., 0., 1., 0., 0., 0., 0.,\n",
       "        0., 0.],\n",
       "       [0., 0., 0., 0., 1., 0., 0., 0., 0., 0., 0., 0., 0., 0., 0., 1.,\n",
       "        0., 0.],\n",
       "       [0., 0., 1., 0., 0., 0., 0., 0., 0., 0., 0., 0., 0., 0., 0., 0.,\n",
       "        1., 0.],\n",
       "       [0., 0., 0., 0., 0., 1., 0., 0., 0., 0., 0., 0., 1., 0., 0., 0.,\n",
       "        0., 0.],\n",
       "       [0., 0., 0., 0., 1., 0., 0., 0., 0., 0., 0., 0., 0., 0., 0., 1.,\n",
       "        0., 0.]])"
      ]
     },
     "execution_count": 54,
     "metadata": {},
     "output_type": "execute_result"
    }
   ],
   "source": [
    "encoded_data = ohe.fit_transform(df_company[['city', 'industrydesc']])\n",
    "encoded_data"
   ]
  },
  {
   "cell_type": "code",
   "execution_count": 55,
   "metadata": {},
   "outputs": [
    {
     "data": {
      "text/html": [
       "<div>\n",
       "<style scoped>\n",
       "    .dataframe tbody tr th:only-of-type {\n",
       "        vertical-align: middle;\n",
       "    }\n",
       "\n",
       "    .dataframe tbody tr th {\n",
       "        vertical-align: top;\n",
       "    }\n",
       "\n",
       "    .dataframe thead th {\n",
       "        text-align: right;\n",
       "    }\n",
       "</style>\n",
       "<table border=\"1\" class=\"dataframe\">\n",
       "  <thead>\n",
       "    <tr style=\"text-align: right;\">\n",
       "      <th></th>\n",
       "      <th>city_Bagsværd</th>\n",
       "      <th>city_Ballerup</th>\n",
       "      <th>city_Frederikshavn</th>\n",
       "      <th>city_Herlev</th>\n",
       "      <th>city_København K</th>\n",
       "      <th>city_København SV</th>\n",
       "      <th>city_København Ø</th>\n",
       "      <th>city_Veksø Sjælland</th>\n",
       "      <th>industrydesc_Anden udgivelse af software</th>\n",
       "      <th>industrydesc_Andre liberale, videnskabelige og tekniske tjenesteydelser i.a.n.</th>\n",
       "      <th>industrydesc_Banker, sparekasser og andelskasser</th>\n",
       "      <th>industrydesc_Computerprogrammering</th>\n",
       "      <th>industrydesc_Fastnetbaseret telekommunikation</th>\n",
       "      <th>industrydesc_Finansielle holdingselskaber</th>\n",
       "      <th>industrydesc_Fremstilling af farmaceutiske præparater</th>\n",
       "      <th>industrydesc_Konsulentbistand vedrørende informationsteknologi</th>\n",
       "      <th>industrydesc_Udgivelse af bøger</th>\n",
       "      <th>industrydesc_Uoplyst</th>\n",
       "    </tr>\n",
       "  </thead>\n",
       "  <tbody>\n",
       "    <tr>\n",
       "      <th>Dynatest A/S</th>\n",
       "      <td>0.0</td>\n",
       "      <td>0.0</td>\n",
       "      <td>0.0</td>\n",
       "      <td>1.0</td>\n",
       "      <td>0.0</td>\n",
       "      <td>0.0</td>\n",
       "      <td>0.0</td>\n",
       "      <td>0.0</td>\n",
       "      <td>0.0</td>\n",
       "      <td>0.0</td>\n",
       "      <td>0.0</td>\n",
       "      <td>0.0</td>\n",
       "      <td>0.0</td>\n",
       "      <td>0.0</td>\n",
       "      <td>0.0</td>\n",
       "      <td>0.0</td>\n",
       "      <td>0.0</td>\n",
       "      <td>1.0</td>\n",
       "    </tr>\n",
       "    <tr>\n",
       "      <th>Eriksholm Research Centre, Oticon</th>\n",
       "      <td>0.0</td>\n",
       "      <td>0.0</td>\n",
       "      <td>0.0</td>\n",
       "      <td>0.0</td>\n",
       "      <td>0.0</td>\n",
       "      <td>0.0</td>\n",
       "      <td>0.0</td>\n",
       "      <td>1.0</td>\n",
       "      <td>0.0</td>\n",
       "      <td>1.0</td>\n",
       "      <td>0.0</td>\n",
       "      <td>0.0</td>\n",
       "      <td>0.0</td>\n",
       "      <td>0.0</td>\n",
       "      <td>0.0</td>\n",
       "      <td>0.0</td>\n",
       "      <td>0.0</td>\n",
       "      <td>0.0</td>\n",
       "    </tr>\n",
       "    <tr>\n",
       "      <th>Formpipe</th>\n",
       "      <td>0.0</td>\n",
       "      <td>1.0</td>\n",
       "      <td>0.0</td>\n",
       "      <td>0.0</td>\n",
       "      <td>0.0</td>\n",
       "      <td>0.0</td>\n",
       "      <td>0.0</td>\n",
       "      <td>0.0</td>\n",
       "      <td>1.0</td>\n",
       "      <td>0.0</td>\n",
       "      <td>0.0</td>\n",
       "      <td>0.0</td>\n",
       "      <td>0.0</td>\n",
       "      <td>0.0</td>\n",
       "      <td>0.0</td>\n",
       "      <td>0.0</td>\n",
       "      <td>0.0</td>\n",
       "      <td>0.0</td>\n",
       "    </tr>\n",
       "    <tr>\n",
       "      <th>Novo Nordisk</th>\n",
       "      <td>1.0</td>\n",
       "      <td>0.0</td>\n",
       "      <td>0.0</td>\n",
       "      <td>0.0</td>\n",
       "      <td>0.0</td>\n",
       "      <td>0.0</td>\n",
       "      <td>0.0</td>\n",
       "      <td>0.0</td>\n",
       "      <td>0.0</td>\n",
       "      <td>0.0</td>\n",
       "      <td>0.0</td>\n",
       "      <td>0.0</td>\n",
       "      <td>0.0</td>\n",
       "      <td>0.0</td>\n",
       "      <td>1.0</td>\n",
       "      <td>0.0</td>\n",
       "      <td>0.0</td>\n",
       "      <td>0.0</td>\n",
       "    </tr>\n",
       "    <tr>\n",
       "      <th>PFA</th>\n",
       "      <td>0.0</td>\n",
       "      <td>0.0</td>\n",
       "      <td>0.0</td>\n",
       "      <td>0.0</td>\n",
       "      <td>0.0</td>\n",
       "      <td>0.0</td>\n",
       "      <td>1.0</td>\n",
       "      <td>0.0</td>\n",
       "      <td>0.0</td>\n",
       "      <td>0.0</td>\n",
       "      <td>1.0</td>\n",
       "      <td>0.0</td>\n",
       "      <td>0.0</td>\n",
       "      <td>0.0</td>\n",
       "      <td>0.0</td>\n",
       "      <td>0.0</td>\n",
       "      <td>0.0</td>\n",
       "      <td>0.0</td>\n",
       "    </tr>\n",
       "  </tbody>\n",
       "</table>\n",
       "</div>"
      ],
      "text/plain": [
       "                                   city_Bagsværd  city_Ballerup  \\\n",
       "Dynatest A/S                                 0.0            0.0   \n",
       "Eriksholm Research Centre, Oticon            0.0            0.0   \n",
       "Formpipe                                     0.0            1.0   \n",
       "Novo Nordisk                                 1.0            0.0   \n",
       "PFA                                          0.0            0.0   \n",
       "\n",
       "                                   city_Frederikshavn  city_Herlev  \\\n",
       "Dynatest A/S                                      0.0          1.0   \n",
       "Eriksholm Research Centre, Oticon                 0.0          0.0   \n",
       "Formpipe                                          0.0          0.0   \n",
       "Novo Nordisk                                      0.0          0.0   \n",
       "PFA                                               0.0          0.0   \n",
       "\n",
       "                                   city_København K  city_København SV  \\\n",
       "Dynatest A/S                                    0.0                0.0   \n",
       "Eriksholm Research Centre, Oticon               0.0                0.0   \n",
       "Formpipe                                        0.0                0.0   \n",
       "Novo Nordisk                                    0.0                0.0   \n",
       "PFA                                             0.0                0.0   \n",
       "\n",
       "                                   city_København Ø  city_Veksø Sjælland  \\\n",
       "Dynatest A/S                                    0.0                  0.0   \n",
       "Eriksholm Research Centre, Oticon               0.0                  1.0   \n",
       "Formpipe                                        0.0                  0.0   \n",
       "Novo Nordisk                                    0.0                  0.0   \n",
       "PFA                                             1.0                  0.0   \n",
       "\n",
       "                                   industrydesc_Anden udgivelse af software  \\\n",
       "Dynatest A/S                                                            0.0   \n",
       "Eriksholm Research Centre, Oticon                                       0.0   \n",
       "Formpipe                                                                1.0   \n",
       "Novo Nordisk                                                            0.0   \n",
       "PFA                                                                     0.0   \n",
       "\n",
       "                                   industrydesc_Andre liberale, videnskabelige og tekniske tjenesteydelser i.a.n.  \\\n",
       "Dynatest A/S                                                                     0.0                                \n",
       "Eriksholm Research Centre, Oticon                                                1.0                                \n",
       "Formpipe                                                                         0.0                                \n",
       "Novo Nordisk                                                                     0.0                                \n",
       "PFA                                                                              0.0                                \n",
       "\n",
       "                                   industrydesc_Banker, sparekasser og andelskasser  \\\n",
       "Dynatest A/S                                                                    0.0   \n",
       "Eriksholm Research Centre, Oticon                                               0.0   \n",
       "Formpipe                                                                        0.0   \n",
       "Novo Nordisk                                                                    0.0   \n",
       "PFA                                                                             1.0   \n",
       "\n",
       "                                   industrydesc_Computerprogrammering  \\\n",
       "Dynatest A/S                                                      0.0   \n",
       "Eriksholm Research Centre, Oticon                                 0.0   \n",
       "Formpipe                                                          0.0   \n",
       "Novo Nordisk                                                      0.0   \n",
       "PFA                                                               0.0   \n",
       "\n",
       "                                   industrydesc_Fastnetbaseret telekommunikation  \\\n",
       "Dynatest A/S                                                                 0.0   \n",
       "Eriksholm Research Centre, Oticon                                            0.0   \n",
       "Formpipe                                                                     0.0   \n",
       "Novo Nordisk                                                                 0.0   \n",
       "PFA                                                                          0.0   \n",
       "\n",
       "                                   industrydesc_Finansielle holdingselskaber  \\\n",
       "Dynatest A/S                                                             0.0   \n",
       "Eriksholm Research Centre, Oticon                                        0.0   \n",
       "Formpipe                                                                 0.0   \n",
       "Novo Nordisk                                                             0.0   \n",
       "PFA                                                                      0.0   \n",
       "\n",
       "                                   industrydesc_Fremstilling af farmaceutiske præparater  \\\n",
       "Dynatest A/S                                                                     0.0       \n",
       "Eriksholm Research Centre, Oticon                                                0.0       \n",
       "Formpipe                                                                         0.0       \n",
       "Novo Nordisk                                                                     1.0       \n",
       "PFA                                                                              0.0       \n",
       "\n",
       "                                   industrydesc_Konsulentbistand vedrørende informationsteknologi  \\\n",
       "Dynatest A/S                                                                     0.0                \n",
       "Eriksholm Research Centre, Oticon                                                0.0                \n",
       "Formpipe                                                                         0.0                \n",
       "Novo Nordisk                                                                     0.0                \n",
       "PFA                                                                              0.0                \n",
       "\n",
       "                                   industrydesc_Udgivelse af bøger  \\\n",
       "Dynatest A/S                                                   0.0   \n",
       "Eriksholm Research Centre, Oticon                              0.0   \n",
       "Formpipe                                                       0.0   \n",
       "Novo Nordisk                                                   0.0   \n",
       "PFA                                                            0.0   \n",
       "\n",
       "                                   industrydesc_Uoplyst  \n",
       "Dynatest A/S                                        1.0  \n",
       "Eriksholm Research Centre, Oticon                   0.0  \n",
       "Formpipe                                            0.0  \n",
       "Novo Nordisk                                        0.0  \n",
       "PFA                                                 0.0  "
      ]
     },
     "execution_count": 55,
     "metadata": {},
     "output_type": "execute_result"
    }
   ],
   "source": [
    "encoded_df = pd.DataFrame(encoded_data, columns=ohe.get_feature_names_out(['city', 'industrydesc'])).set_index(df_company.index)\n",
    "# the problem was that the encoded df didn't have the same index as the original df\n",
    "# so the concat would append new rows instead of replacing the old ones\n",
    "encoded_df.head()"
   ]
  },
  {
   "cell_type": "code",
   "execution_count": 56,
   "metadata": {},
   "outputs": [
    {
     "data": {
      "text/html": [
       "<div>\n",
       "<style scoped>\n",
       "    .dataframe tbody tr th:only-of-type {\n",
       "        vertical-align: middle;\n",
       "    }\n",
       "\n",
       "    .dataframe tbody tr th {\n",
       "        vertical-align: top;\n",
       "    }\n",
       "\n",
       "    .dataframe thead th {\n",
       "        text-align: right;\n",
       "    }\n",
       "</style>\n",
       "<table border=\"1\" class=\"dataframe\">\n",
       "  <thead>\n",
       "    <tr style=\"text-align: right;\">\n",
       "      <th></th>\n",
       "      <th>vat</th>\n",
       "      <th>name</th>\n",
       "      <th>address</th>\n",
       "      <th>zipcode</th>\n",
       "      <th>city</th>\n",
       "      <th>phone</th>\n",
       "      <th>email</th>\n",
       "      <th>startdate</th>\n",
       "      <th>employees</th>\n",
       "      <th>industrycode</th>\n",
       "      <th>...</th>\n",
       "      <th>industrydesc_Anden udgivelse af software</th>\n",
       "      <th>industrydesc_Andre liberale, videnskabelige og tekniske tjenesteydelser i.a.n.</th>\n",
       "      <th>industrydesc_Banker, sparekasser og andelskasser</th>\n",
       "      <th>industrydesc_Computerprogrammering</th>\n",
       "      <th>industrydesc_Fastnetbaseret telekommunikation</th>\n",
       "      <th>industrydesc_Finansielle holdingselskaber</th>\n",
       "      <th>industrydesc_Fremstilling af farmaceutiske præparater</th>\n",
       "      <th>industrydesc_Konsulentbistand vedrørende informationsteknologi</th>\n",
       "      <th>industrydesc_Udgivelse af bøger</th>\n",
       "      <th>industrydesc_Uoplyst</th>\n",
       "    </tr>\n",
       "  </thead>\n",
       "  <tbody>\n",
       "    <tr>\n",
       "      <th>Dynatest A/S</th>\n",
       "      <td>20318872</td>\n",
       "      <td>A/S DYNATEST ENGINEERING</td>\n",
       "      <td>Generatorvej 21</td>\n",
       "      <td>2730</td>\n",
       "      <td>Herlev</td>\n",
       "      <td>NaN</td>\n",
       "      <td>NaN</td>\n",
       "      <td>15/10 - 1981</td>\n",
       "      <td>36.0</td>\n",
       "      <td>980000</td>\n",
       "      <td>...</td>\n",
       "      <td>0.0</td>\n",
       "      <td>0.0</td>\n",
       "      <td>0.0</td>\n",
       "      <td>0.0</td>\n",
       "      <td>0.0</td>\n",
       "      <td>0.0</td>\n",
       "      <td>0.0</td>\n",
       "      <td>0.0</td>\n",
       "      <td>0.0</td>\n",
       "      <td>1.0</td>\n",
       "    </tr>\n",
       "    <tr>\n",
       "      <th>Eriksholm Research Centre, Oticon</th>\n",
       "      <td>50091015</td>\n",
       "      <td>PROPOLIS RESEARCH CENTRE A/S</td>\n",
       "      <td>Lille Veksøvej 11</td>\n",
       "      <td>3670</td>\n",
       "      <td>Veksø Sjælland</td>\n",
       "      <td>NaN</td>\n",
       "      <td>NaN</td>\n",
       "      <td>10/09 - 1974</td>\n",
       "      <td>42.0</td>\n",
       "      <td>749090</td>\n",
       "      <td>...</td>\n",
       "      <td>0.0</td>\n",
       "      <td>1.0</td>\n",
       "      <td>0.0</td>\n",
       "      <td>0.0</td>\n",
       "      <td>0.0</td>\n",
       "      <td>0.0</td>\n",
       "      <td>0.0</td>\n",
       "      <td>0.0</td>\n",
       "      <td>0.0</td>\n",
       "      <td>0.0</td>\n",
       "    </tr>\n",
       "    <tr>\n",
       "      <th>Formpipe</th>\n",
       "      <td>26366216</td>\n",
       "      <td>FORMPIPE LASERNET A/S</td>\n",
       "      <td>Lautrupvang 1</td>\n",
       "      <td>2750</td>\n",
       "      <td>Ballerup</td>\n",
       "      <td>43660210.0</td>\n",
       "      <td>admin.lasernet@formpipe.com</td>\n",
       "      <td>13/12 - 2001</td>\n",
       "      <td>87.0</td>\n",
       "      <td>582900</td>\n",
       "      <td>...</td>\n",
       "      <td>1.0</td>\n",
       "      <td>0.0</td>\n",
       "      <td>0.0</td>\n",
       "      <td>0.0</td>\n",
       "      <td>0.0</td>\n",
       "      <td>0.0</td>\n",
       "      <td>0.0</td>\n",
       "      <td>0.0</td>\n",
       "      <td>0.0</td>\n",
       "      <td>0.0</td>\n",
       "    </tr>\n",
       "    <tr>\n",
       "      <th>Novo Nordisk</th>\n",
       "      <td>24256790</td>\n",
       "      <td>NOVO NORDISK A/S</td>\n",
       "      <td>Novo Alle 1</td>\n",
       "      <td>2880</td>\n",
       "      <td>Bagsværd</td>\n",
       "      <td>44448888.0</td>\n",
       "      <td>NaN</td>\n",
       "      <td>28/11 - 1931</td>\n",
       "      <td>22150.0</td>\n",
       "      <td>212000</td>\n",
       "      <td>...</td>\n",
       "      <td>0.0</td>\n",
       "      <td>0.0</td>\n",
       "      <td>0.0</td>\n",
       "      <td>0.0</td>\n",
       "      <td>0.0</td>\n",
       "      <td>0.0</td>\n",
       "      <td>1.0</td>\n",
       "      <td>0.0</td>\n",
       "      <td>0.0</td>\n",
       "      <td>0.0</td>\n",
       "    </tr>\n",
       "    <tr>\n",
       "      <th>PFA</th>\n",
       "      <td>31050162</td>\n",
       "      <td>PFA BANK A/S</td>\n",
       "      <td>Sundkrogsgade 4</td>\n",
       "      <td>2100</td>\n",
       "      <td>København Ø</td>\n",
       "      <td>70808500.0</td>\n",
       "      <td>post@pfabank.dk</td>\n",
       "      <td>02/11 - 2007</td>\n",
       "      <td>1464.0</td>\n",
       "      <td>641900</td>\n",
       "      <td>...</td>\n",
       "      <td>0.0</td>\n",
       "      <td>0.0</td>\n",
       "      <td>1.0</td>\n",
       "      <td>0.0</td>\n",
       "      <td>0.0</td>\n",
       "      <td>0.0</td>\n",
       "      <td>0.0</td>\n",
       "      <td>0.0</td>\n",
       "      <td>0.0</td>\n",
       "      <td>0.0</td>\n",
       "    </tr>\n",
       "  </tbody>\n",
       "</table>\n",
       "<p>5 rows × 42 columns</p>\n",
       "</div>"
      ],
      "text/plain": [
       "                                        vat                          name  \\\n",
       "Dynatest A/S                       20318872      A/S DYNATEST ENGINEERING   \n",
       "Eriksholm Research Centre, Oticon  50091015  PROPOLIS RESEARCH CENTRE A/S   \n",
       "Formpipe                           26366216         FORMPIPE LASERNET A/S   \n",
       "Novo Nordisk                       24256790              NOVO NORDISK A/S   \n",
       "PFA                                31050162                  PFA BANK A/S   \n",
       "\n",
       "                                             address  zipcode            city  \\\n",
       "Dynatest A/S                         Generatorvej 21     2730          Herlev   \n",
       "Eriksholm Research Centre, Oticon  Lille Veksøvej 11     3670  Veksø Sjælland   \n",
       "Formpipe                               Lautrupvang 1     2750        Ballerup   \n",
       "Novo Nordisk                             Novo Alle 1     2880        Bagsværd   \n",
       "PFA                                  Sundkrogsgade 4     2100     København Ø   \n",
       "\n",
       "                                        phone                        email  \\\n",
       "Dynatest A/S                              NaN                          NaN   \n",
       "Eriksholm Research Centre, Oticon         NaN                          NaN   \n",
       "Formpipe                           43660210.0  admin.lasernet@formpipe.com   \n",
       "Novo Nordisk                       44448888.0                          NaN   \n",
       "PFA                                70808500.0              post@pfabank.dk   \n",
       "\n",
       "                                      startdate  employees  industrycode  ...  \\\n",
       "Dynatest A/S                       15/10 - 1981       36.0        980000  ...   \n",
       "Eriksholm Research Centre, Oticon  10/09 - 1974       42.0        749090  ...   \n",
       "Formpipe                           13/12 - 2001       87.0        582900  ...   \n",
       "Novo Nordisk                       28/11 - 1931    22150.0        212000  ...   \n",
       "PFA                                02/11 - 2007     1464.0        641900  ...   \n",
       "\n",
       "                                  industrydesc_Anden udgivelse af software  \\\n",
       "Dynatest A/S                                                           0.0   \n",
       "Eriksholm Research Centre, Oticon                                      0.0   \n",
       "Formpipe                                                               1.0   \n",
       "Novo Nordisk                                                           0.0   \n",
       "PFA                                                                    0.0   \n",
       "\n",
       "                                   industrydesc_Andre liberale, videnskabelige og tekniske tjenesteydelser i.a.n.  \\\n",
       "Dynatest A/S                                                                     0.0                                \n",
       "Eriksholm Research Centre, Oticon                                                1.0                                \n",
       "Formpipe                                                                         0.0                                \n",
       "Novo Nordisk                                                                     0.0                                \n",
       "PFA                                                                              0.0                                \n",
       "\n",
       "                                  industrydesc_Banker, sparekasser og andelskasser  \\\n",
       "Dynatest A/S                                                                   0.0   \n",
       "Eriksholm Research Centre, Oticon                                              0.0   \n",
       "Formpipe                                                                       0.0   \n",
       "Novo Nordisk                                                                   0.0   \n",
       "PFA                                                                            1.0   \n",
       "\n",
       "                                   industrydesc_Computerprogrammering  \\\n",
       "Dynatest A/S                                                      0.0   \n",
       "Eriksholm Research Centre, Oticon                                 0.0   \n",
       "Formpipe                                                          0.0   \n",
       "Novo Nordisk                                                      0.0   \n",
       "PFA                                                               0.0   \n",
       "\n",
       "                                   industrydesc_Fastnetbaseret telekommunikation  \\\n",
       "Dynatest A/S                                                                 0.0   \n",
       "Eriksholm Research Centre, Oticon                                            0.0   \n",
       "Formpipe                                                                     0.0   \n",
       "Novo Nordisk                                                                 0.0   \n",
       "PFA                                                                          0.0   \n",
       "\n",
       "                                   industrydesc_Finansielle holdingselskaber  \\\n",
       "Dynatest A/S                                                             0.0   \n",
       "Eriksholm Research Centre, Oticon                                        0.0   \n",
       "Formpipe                                                                 0.0   \n",
       "Novo Nordisk                                                             0.0   \n",
       "PFA                                                                      0.0   \n",
       "\n",
       "                                   industrydesc_Fremstilling af farmaceutiske præparater  \\\n",
       "Dynatest A/S                                                                     0.0       \n",
       "Eriksholm Research Centre, Oticon                                                0.0       \n",
       "Formpipe                                                                         0.0       \n",
       "Novo Nordisk                                                                     1.0       \n",
       "PFA                                                                              0.0       \n",
       "\n",
       "                                   industrydesc_Konsulentbistand vedrørende informationsteknologi  \\\n",
       "Dynatest A/S                                                                     0.0                \n",
       "Eriksholm Research Centre, Oticon                                                0.0                \n",
       "Formpipe                                                                         0.0                \n",
       "Novo Nordisk                                                                     0.0                \n",
       "PFA                                                                              0.0                \n",
       "\n",
       "                                   industrydesc_Udgivelse af bøger  \\\n",
       "Dynatest A/S                                                   0.0   \n",
       "Eriksholm Research Centre, Oticon                              0.0   \n",
       "Formpipe                                                       0.0   \n",
       "Novo Nordisk                                                   0.0   \n",
       "PFA                                                            0.0   \n",
       "\n",
       "                                   industrydesc_Uoplyst  \n",
       "Dynatest A/S                                        1.0  \n",
       "Eriksholm Research Centre, Oticon                   0.0  \n",
       "Formpipe                                            0.0  \n",
       "Novo Nordisk                                        0.0  \n",
       "PFA                                                 0.0  \n",
       "\n",
       "[5 rows x 42 columns]"
      ]
     },
     "execution_count": 56,
     "metadata": {},
     "output_type": "execute_result"
    }
   ],
   "source": [
    "df_processed = pd.concat([df_company, encoded_df], axis=1)\n",
    "df_processed.head()"
   ]
  },
  {
   "cell_type": "code",
   "execution_count": 57,
   "metadata": {},
   "outputs": [],
   "source": [
    "df_processed.drop(['city', 'industrydesc'], axis=1, inplace=True)"
   ]
  },
  {
   "attachments": {},
   "cell_type": "markdown",
   "metadata": {},
   "source": [
    "# Building ML models\n",
    "We start with linear regression model to predict a company's finances for 2022.\n",
    "\n",
    "But first let's just have a look at some plots for all the companies' revenue of the years."
   ]
  },
  {
   "cell_type": "code",
   "execution_count": 102,
   "metadata": {},
   "outputs": [
    {
     "data": {
      "text/plain": [
       "<matplotlib.collections.PathCollection at 0x1f798985160>"
      ]
     },
     "execution_count": 102,
     "metadata": {},
     "output_type": "execute_result"
    },
    {
     "data": {
      "image/png": "[encoded data removed]",
      "text/plain": [
       "<Figure size 640x480 with 1 Axes>"
      ]
     },
     "metadata": {},
     "output_type": "display_data"
    }
   ],
   "source": [
    "finances = df_processed.loc[:, '2021':'2013']\n",
    "finances.drop('Novo Nordisk', inplace=True) # outlier\n",
    "X = finances.columns.astype(int)\n",
    "y = [finances.loc[i] for i in finances.index]\n",
    "plt.scatter([X]*len(finances), y)"
   ]
  },
  {
   "attachments": {},
   "cell_type": "markdown",
   "metadata": {},
   "source": [
    "The only trend is that time moves forward."
   ]
  },
  {
   "cell_type": "code",
   "execution_count": 130,
   "metadata": {},
   "outputs": [
    {
     "data": {
      "text/plain": [
       "<matplotlib.legend.Legend at 0x1f79a3e7760>"
      ]
     },
     "execution_count": 130,
     "metadata": {},
     "output_type": "execute_result"
    },
    {
     "data": {
      "image/png": "[encoded data removed]",
      "text/plain": [
       "<Figure size 640x480 with 1 Axes>"
      ]
     },
     "metadata": {},
     "output_type": "display_data"
    }
   ],
   "source": [
    "for i in finances.index:\n",
    "    plt.plot(X, finances.loc[i], label=shorten(i, width=20, placeholder='...'))\n",
    "plt.legend(loc='upper right', fontsize='small', fancybox=True, framealpha=0.5)\n",
    "plt.show()"
   ]
  },
  {
   "attachments": {},
   "cell_type": "markdown",
   "metadata": {},
   "source": [
    "Because companies vary wildly in their finances, both in terms of the company's size and also their structure and strategy within a larger organization, we will build a model for the individual company.\n",
    "\n",
    "What I mean by different finance strategy is that some companies report 0 net profits presumably because they send the money to a parent company. Other companies have 0 gross because their purpose is not to make money. As a result, some companies seemingly report wild losses as the end result.\n",
    "\n",
    "I don't know finances at all. But that's a lot of companies making close to 0 or negative money."
   ]
  },
  {
   "attachments": {},
   "cell_type": "markdown",
   "metadata": {},
   "source": [
    "Now let's try building a linear regression model."
   ]
  },
  {
   "cell_type": "code",
   "execution_count": 127,
   "metadata": {},
   "outputs": [],
   "source": [
    "def build_projected_profit_model(company):\n",
    "    finances = df_processed.loc[company, '2021':'2013']         # get the finances for the company\n",
    "    X = finances.index.astype(int).to_numpy().reshape(-1, 1)    # Xs are the year labels\n",
    "    y = finances\n",
    "    model = LinearRegression().fit(X, y)\n",
    "    plt.plot(X, y, label=company)\n",
    "    plt.plot(X, model.predict(X), label=f'{company} projected')\n",
    "    plt.legend()\n",
    "    plt.show()\n",
    "    return model"
   ]
  },
  {
   "attachments": {},
   "cell_type": "markdown",
   "metadata": {},
   "source": [
    "Let's use **Novo Nordisk** as an example because they seem to have stable finances that don't look weird. Their financial data also goes back all the way to 2013. That is the case with all but 2 companies so far."
   ]
  },
  {
   "cell_type": "code",
   "execution_count": 128,
   "metadata": {},
   "outputs": [
    {
     "data": {
      "image/png": "[encoded data removed]",
      "text/plain": [
       "<Figure size 640x480 with 1 Axes>"
      ]
     },
     "metadata": {},
     "output_type": "display_data"
    }
   ],
   "source": [
    "novo_model = build_projected_profit_model('Novo Nordisk')"
   ]
  },
  {
   "attachments": {},
   "cell_type": "markdown",
   "metadata": {},
   "source": [
    "And now, let's predict a profit for **2022**."
   ]
  },
  {
   "cell_type": "code",
   "execution_count": 117,
   "metadata": {},
   "outputs": [
    {
     "data": {
      "text/plain": [
       "48808805.55555534"
      ]
     },
     "execution_count": 117,
     "metadata": {},
     "output_type": "execute_result"
    }
   ],
   "source": [
    "novo_2022 = novo_model.predict(np.array([2022]).reshape(-1, 1))\n",
    "novo_2022[0]"
   ]
  },
  {
   "attachments": {},
   "cell_type": "markdown",
   "metadata": {},
   "source": [
    "I don't think we can assess the accuracy at all because we did not split training data. We chose not to because we already have insanely little data to train on. As a result, we have no test data with which to assess the accuracy of the model."
   ]
  }
 ],
 "metadata": {
  "kernelspec": {
   "display_name": "Python 3",
   "language": "python",
   "name": "python3"
  },
  "language_info": {
   "codemirror_mode": {
    "name": "ipython",
    "version": 3
   },
   "file_extension": ".py",
   "mimetype": "text/x-python",
   "name": "python",
   "nbconvert_exporter": "python",
   "pygments_lexer": "ipython3",
   "version": "3.9.16"
  },
  "orig_nbformat": 4,
  "vscode": {
   "interpreter": {
    "hash": "81794d4967e6c3204c66dcd87b604927b115b27c00565d3d43f05ba2f3a2cb0d"
   }
  }
 },
 "nbformat": 4,
 "nbformat_minor": 2
}
