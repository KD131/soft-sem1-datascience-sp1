{
 "cells": [
  {
   "cell_type": "markdown",
   "metadata": {},
   "source": [
    "## Cleaning the company DataFrame"
   ]
  },
  {
   "cell_type": "code",
   "execution_count": 1,
   "metadata": {},
   "outputs": [],
   "source": [
    "import pandas as pd"
   ]
  },
  {
   "cell_type": "code",
   "execution_count": 2,
   "metadata": {},
   "outputs": [],
   "source": [
    "df_company = pd.read_csv('data/1_company_data.csv', index_col=0)"
   ]
  },
  {
   "cell_type": "code",
   "execution_count": 3,
   "metadata": {},
   "outputs": [
    {
     "data": {
      "text/html": [
       "<div>\n",
       "<style scoped>\n",
       "    .dataframe tbody tr th:only-of-type {\n",
       "        vertical-align: middle;\n",
       "    }\n",
       "\n",
       "    .dataframe tbody tr th {\n",
       "        vertical-align: top;\n",
       "    }\n",
       "\n",
       "    .dataframe thead th {\n",
       "        text-align: right;\n",
       "    }\n",
       "</style>\n",
       "<table border=\"1\" class=\"dataframe\">\n",
       "  <thead>\n",
       "    <tr style=\"text-align: right;\">\n",
       "      <th></th>\n",
       "      <th>vat</th>\n",
       "      <th>name</th>\n",
       "      <th>address</th>\n",
       "      <th>zipcode</th>\n",
       "      <th>city</th>\n",
       "      <th>cityname</th>\n",
       "      <th>protected</th>\n",
       "      <th>phone</th>\n",
       "      <th>email</th>\n",
       "      <th>fax</th>\n",
       "      <th>...</th>\n",
       "      <th>2022</th>\n",
       "      <th>2021</th>\n",
       "      <th>2020</th>\n",
       "      <th>2019</th>\n",
       "      <th>2018</th>\n",
       "      <th>2017</th>\n",
       "      <th>2016</th>\n",
       "      <th>2015</th>\n",
       "      <th>2014</th>\n",
       "      <th>2013</th>\n",
       "    </tr>\n",
       "  </thead>\n",
       "  <tbody>\n",
       "    <tr>\n",
       "      <th>Dynatest A/S</th>\n",
       "      <td>20318872</td>\n",
       "      <td>A/S DYNATEST ENGINEERING</td>\n",
       "      <td>Generatorvej 21</td>\n",
       "      <td>2730</td>\n",
       "      <td>Herlev</td>\n",
       "      <td>NaN</td>\n",
       "      <td>False</td>\n",
       "      <td>NaN</td>\n",
       "      <td>NaN</td>\n",
       "      <td>NaN</td>\n",
       "      <td>...</td>\n",
       "      <td>3581.0</td>\n",
       "      <td>9606.0</td>\n",
       "      <td>4530.0</td>\n",
       "      <td>NaN</td>\n",
       "      <td>NaN</td>\n",
       "      <td>NaN</td>\n",
       "      <td>NaN</td>\n",
       "      <td>NaN</td>\n",
       "      <td>NaN</td>\n",
       "      <td>NaN</td>\n",
       "    </tr>\n",
       "    <tr>\n",
       "      <th>Eriksholm Research Centre, Oticon</th>\n",
       "      <td>50091015</td>\n",
       "      <td>PROPOLIS RESEARCH CENTRE A/S</td>\n",
       "      <td>Lille Veksøvej 11</td>\n",
       "      <td>3670</td>\n",
       "      <td>Veksø Sjælland</td>\n",
       "      <td>NaN</td>\n",
       "      <td>False</td>\n",
       "      <td>NaN</td>\n",
       "      <td>NaN</td>\n",
       "      <td>NaN</td>\n",
       "      <td>...</td>\n",
       "      <td>NaN</td>\n",
       "      <td>1525319.0</td>\n",
       "      <td>165416.0</td>\n",
       "      <td>551594.0</td>\n",
       "      <td>962573.0</td>\n",
       "      <td>1011568.0</td>\n",
       "      <td>743559.0</td>\n",
       "      <td>730954.0</td>\n",
       "      <td>535275.0</td>\n",
       "      <td>798601.0</td>\n",
       "    </tr>\n",
       "    <tr>\n",
       "      <th>Formpipe</th>\n",
       "      <td>26366216</td>\n",
       "      <td>FORMPIPE LASERNET A/S</td>\n",
       "      <td>Lautrupvang 1</td>\n",
       "      <td>2750</td>\n",
       "      <td>Ballerup</td>\n",
       "      <td>NaN</td>\n",
       "      <td>False</td>\n",
       "      <td>43660210.0</td>\n",
       "      <td>admin.lasernet@formpipe.com</td>\n",
       "      <td>NaN</td>\n",
       "      <td>...</td>\n",
       "      <td>NaN</td>\n",
       "      <td>36583.0</td>\n",
       "      <td>14719.0</td>\n",
       "      <td>7525.0</td>\n",
       "      <td>10511.0</td>\n",
       "      <td>-748.0</td>\n",
       "      <td>-4924.0</td>\n",
       "      <td>-4145.0</td>\n",
       "      <td>-590.0</td>\n",
       "      <td>-7751.0</td>\n",
       "    </tr>\n",
       "    <tr>\n",
       "      <th>Novo Nordisk</th>\n",
       "      <td>24256790</td>\n",
       "      <td>NOVO NORDISK A/S</td>\n",
       "      <td>Novo Alle 1</td>\n",
       "      <td>2880</td>\n",
       "      <td>Bagsværd</td>\n",
       "      <td>NaN</td>\n",
       "      <td>False</td>\n",
       "      <td>44448888.0</td>\n",
       "      <td>NaN</td>\n",
       "      <td>NaN</td>\n",
       "      <td>...</td>\n",
       "      <td>NaN</td>\n",
       "      <td>47523000.0</td>\n",
       "      <td>42159000.0</td>\n",
       "      <td>39252000.0</td>\n",
       "      <td>38530000.0</td>\n",
       "      <td>37873000.0</td>\n",
       "      <td>37791000.0</td>\n",
       "      <td>34623000.0</td>\n",
       "      <td>26413000.0</td>\n",
       "      <td>25190000.0</td>\n",
       "    </tr>\n",
       "    <tr>\n",
       "      <th>PFA</th>\n",
       "      <td>31050162</td>\n",
       "      <td>PFA BANK A/S</td>\n",
       "      <td>Sundkrogsgade 4</td>\n",
       "      <td>2100</td>\n",
       "      <td>København Ø</td>\n",
       "      <td>NaN</td>\n",
       "      <td>False</td>\n",
       "      <td>70808500.0</td>\n",
       "      <td>post@pfabank.dk</td>\n",
       "      <td>39172950.0</td>\n",
       "      <td>...</td>\n",
       "      <td>-511000.0</td>\n",
       "      <td>-79000.0</td>\n",
       "      <td>108000.0</td>\n",
       "      <td>10000.0</td>\n",
       "      <td>92000.0</td>\n",
       "      <td>181000.0</td>\n",
       "      <td>136000.0</td>\n",
       "      <td>-587000.0</td>\n",
       "      <td>548000.0</td>\n",
       "      <td>224000.0</td>\n",
       "    </tr>\n",
       "  </tbody>\n",
       "</table>\n",
       "<p>5 rows × 35 columns</p>\n",
       "</div>"
      ],
      "text/plain": [
       "                                        vat                          name  \\\n",
       "Dynatest A/S                       20318872      A/S DYNATEST ENGINEERING   \n",
       "Eriksholm Research Centre, Oticon  50091015  PROPOLIS RESEARCH CENTRE A/S   \n",
       "Formpipe                           26366216         FORMPIPE LASERNET A/S   \n",
       "Novo Nordisk                       24256790              NOVO NORDISK A/S   \n",
       "PFA                                31050162                  PFA BANK A/S   \n",
       "\n",
       "                                             address  zipcode            city  \\\n",
       "Dynatest A/S                         Generatorvej 21     2730          Herlev   \n",
       "Eriksholm Research Centre, Oticon  Lille Veksøvej 11     3670  Veksø Sjælland   \n",
       "Formpipe                               Lautrupvang 1     2750        Ballerup   \n",
       "Novo Nordisk                             Novo Alle 1     2880        Bagsværd   \n",
       "PFA                                  Sundkrogsgade 4     2100     København Ø   \n",
       "\n",
       "                                  cityname  protected       phone  \\\n",
       "Dynatest A/S                           NaN      False         NaN   \n",
       "Eriksholm Research Centre, Oticon      NaN      False         NaN   \n",
       "Formpipe                               NaN      False  43660210.0   \n",
       "Novo Nordisk                           NaN      False  44448888.0   \n",
       "PFA                                    NaN      False  70808500.0   \n",
       "\n",
       "                                                         email         fax  \\\n",
       "Dynatest A/S                                               NaN         NaN   \n",
       "Eriksholm Research Centre, Oticon                          NaN         NaN   \n",
       "Formpipe                           admin.lasernet@formpipe.com         NaN   \n",
       "Novo Nordisk                                               NaN         NaN   \n",
       "PFA                                            post@pfabank.dk  39172950.0   \n",
       "\n",
       "                                   ...      2022        2021        2020  \\\n",
       "Dynatest A/S                       ...    3581.0      9606.0      4530.0   \n",
       "Eriksholm Research Centre, Oticon  ...       NaN   1525319.0    165416.0   \n",
       "Formpipe                           ...       NaN     36583.0     14719.0   \n",
       "Novo Nordisk                       ...       NaN  47523000.0  42159000.0   \n",
       "PFA                                ... -511000.0    -79000.0    108000.0   \n",
       "\n",
       "                                         2019        2018        2017  \\\n",
       "Dynatest A/S                              NaN         NaN         NaN   \n",
       "Eriksholm Research Centre, Oticon    551594.0    962573.0   1011568.0   \n",
       "Formpipe                               7525.0     10511.0      -748.0   \n",
       "Novo Nordisk                       39252000.0  38530000.0  37873000.0   \n",
       "PFA                                   10000.0     92000.0    181000.0   \n",
       "\n",
       "                                         2016        2015        2014  \\\n",
       "Dynatest A/S                              NaN         NaN         NaN   \n",
       "Eriksholm Research Centre, Oticon    743559.0    730954.0    535275.0   \n",
       "Formpipe                              -4924.0     -4145.0      -590.0   \n",
       "Novo Nordisk                       37791000.0  34623000.0  26413000.0   \n",
       "PFA                                  136000.0   -587000.0    548000.0   \n",
       "\n",
       "                                         2013  \n",
       "Dynatest A/S                              NaN  \n",
       "Eriksholm Research Centre, Oticon    798601.0  \n",
       "Formpipe                              -7751.0  \n",
       "Novo Nordisk                       25190000.0  \n",
       "PFA                                  224000.0  \n",
       "\n",
       "[5 rows x 35 columns]"
      ]
     },
     "execution_count": 3,
     "metadata": {},
     "output_type": "execute_result"
    }
   ],
   "source": [
    "df_company.head()"
   ]
  },
  {
   "cell_type": "code",
   "execution_count": 4,
   "metadata": {},
   "outputs": [
    {
     "data": {
      "text/plain": [
       "vat                25\n",
       "name               25\n",
       "address            25\n",
       "zipcode            25\n",
       "city               25\n",
       "cityname            1\n",
       "protected          25\n",
       "phone              16\n",
       "email              14\n",
       "fax                 5\n",
       "startdate          25\n",
       "enddate             1\n",
       "employees          23\n",
       "addressco           4\n",
       "industrycode       25\n",
       "industrydesc       25\n",
       "companycode        25\n",
       "companydesc        25\n",
       "creditstartdate     1\n",
       "creditbankrupt     25\n",
       "creditstatus        1\n",
       "owners              4\n",
       "productionunits    25\n",
       "t                  25\n",
       "version            25\n",
       "2022                8\n",
       "2021               23\n",
       "2020               21\n",
       "2019               20\n",
       "2018               19\n",
       "2017               18\n",
       "2016               17\n",
       "2015               17\n",
       "2014               17\n",
       "2013               16\n",
       "dtype: int64"
      ]
     },
     "execution_count": 4,
     "metadata": {},
     "output_type": "execute_result"
    }
   ],
   "source": [
    "# Amount of non-nan values per column.\n",
    "df_company.count()"
   ]
  },
  {
   "cell_type": "code",
   "execution_count": 5,
   "metadata": {},
   "outputs": [
    {
     "data": {
      "text/plain": [
       "2022    17\n",
       "2021     2\n",
       "2020     4\n",
       "2019     5\n",
       "2018     6\n",
       "2017     7\n",
       "2016     8\n",
       "2015     8\n",
       "2014     8\n",
       "2013     9\n",
       "dtype: int64"
      ]
     },
     "execution_count": 5,
     "metadata": {},
     "output_type": "execute_result"
    }
   ],
   "source": [
    "# specifically the missing values of the financial data\n",
    "df_company.loc[:,'2022':].isna().sum()"
   ]
  },
  {
   "cell_type": "code",
   "execution_count": 6,
   "metadata": {},
   "outputs": [],
   "source": [
    "df_company.drop('2022', axis=1, inplace=True)"
   ]
  },
  {
   "cell_type": "code",
   "execution_count": 7,
   "metadata": {},
   "outputs": [],
   "source": [
    "no_rows = df_company.shape[0]\n",
    "df_company.dropna(axis=1, thresh=no_rows * 0.1, inplace=True)   # drops columns with 90 % missing data"
   ]
  },
  {
   "cell_type": "code",
   "execution_count": 8,
   "metadata": {},
   "outputs": [
    {
     "name": "stdout",
     "output_type": "stream",
     "text": [
      "['t', 'version']\n"
     ]
    }
   ],
   "source": [
    "def all_same(series):\n",
    "    return (series == series[0]).all()\n",
    "\n",
    "cols_with_same_vals = [col for col in df_company.columns if col != 'productionunits' and all_same(df_company[col])]\n",
    "print(cols_with_same_vals)\n",
    "df_company.drop(cols_with_same_vals, axis=1, inplace=True)"
   ]
  },
  {
   "cell_type": "code",
   "execution_count": 9,
   "metadata": {},
   "outputs": [],
   "source": [
    "# drop various columns I don't want\n",
    "df_company.drop(['protected', 'fax', 'companycode', 'companydesc', 'owners'], axis=1, inplace=True)"
   ]
  },
  {
   "cell_type": "code",
   "execution_count": 10,
   "metadata": {},
   "outputs": [],
   "source": [
    "# removes floor of addresses to format for geo coordinates search.\n",
    "df_company['address'] = df_company['address'].apply(lambda a: a.split(',')[0])"
   ]
  },
  {
   "cell_type": "code",
   "execution_count": 11,
   "metadata": {},
   "outputs": [],
   "source": [
    "df_company.to_csv('data/2_cleaned_data.csv')"
   ]
  }
 ],
 "metadata": {
  "kernelspec": {
   "display_name": "Python 3",
   "language": "python",
   "name": "python3"
  },
  "language_info": {
   "codemirror_mode": {
    "name": "ipython",
    "version": 3
   },
   "file_extension": ".py",
   "mimetype": "text/x-python",
   "name": "python",
   "nbconvert_exporter": "python",
   "pygments_lexer": "ipython3",
   "version": "3.9.16"
  },
  "orig_nbformat": 4
 },
 "nbformat": 4,
 "nbformat_minor": 2
}
